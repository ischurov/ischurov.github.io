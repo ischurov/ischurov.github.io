{
 "cells": [
  {
   "cell_type": "markdown",
   "metadata": {},
   "source": [
    "Эта история началась с невинного разговора о погоде. Примерно такого:\n",
    "\n",
    "— Смотри-ка, сегодня 10-е марта, а за окном плюс семь. Прямо весна наступила неожиданно.\n",
    "\n",
    "— Да… Ну, если март тёплый, значит, апрель будет холодный. Так всегда бывает.\n",
    "\n",
    "— Правда? Сейчас проверим…\n",
    "\n",
    "И я пошёл искать статистические данные по погоде в Москве. Они нашлись быстро — [вот здесь](http://cliware.meteo.ru/inter/data.html) можно взять информацию за последние 50 лет. Судя по заглавной странице, это система Всероссийского научно-исследовательского института гидрометеорологической информации — звучит внушительно. С помощью найденных данных и математической статистики мы не только проверим сформулированную выше «народную примету», но и получим довольно неожиданную информацию о связи погоды в разные месяцы, а также своими глазами посмотрим на глобальное потепление.\n",
    "\n",
    "Поехали!"
   ]
  },
  {
   "cell_type": "markdown",
   "metadata": {},
   "source": [
    "### Планируем\n",
    "Мы нашли информацию о температуре за каждый день за последние 50 лет, но что мы теперь с ней будем делать? Чтобы подтвердить или опровергнуть нашу гипотезу, её надо переформулировать математически. Утверждение, «тепло в марте, значит, будет холодно в апреле», означает, что между двумя величинами — средней температурой за март и средней температурой за апрель — наблюдается *отрицательная корреляция*. То есть мы предполагаем, что в те года, в которые средняя температура за март была относительно высокой, средняя температура за апрель была относительно низкой. Конечно, всегда может встретиться аномальный год с жарким мартом и жарким апрелем — само по себе это не будет противоречить нашей гипотезе — но мы предполагаем, что такие случаи редки.\n",
    "\n",
    "Чтобы проверить эту гипотезу, нам потребуется вычислить среднюю температуру за каждый из интересующих нас месяцев каждого из 50 лет и вычислить величину, которая называется [коэффициентом корреляции Пирсона](https://ru.wikipedia.org/wiki/%D0%9A%D0%BE%D1%80%D1%80%D0%B5%D0%BB%D1%8F%D1%86%D0%B8%D1%8F#.D0.9A.D0.BE.D1.8D.D1.84.D1.84.D0.B8.D1.86.D0.B8.D0.B5.D0.BD.D1.82_.D0.BA.D0.BE.D1.80.D1.80.D0.B5.D0.BB.D1.8F.D1.86.D0.B8.D0.B8_.D0.9F.D0.B8.D1.80.D1.81.D0.BE.D0.BD.D0.B0). К счастью, нам даже не нужно знать, по какой формуле её считать (хотя это и полезно), поскольку Python посчитаёт её за нас. Самое главное — подготовить для этого данные."
   ]
  },
  {
   "cell_type": "markdown",
   "metadata": {},
   "source": [
    "### Грузим\n",
    "Для анализа данных в Python используется модуль под милым названием `pandas`."
   ]
  },
  {
   "cell_type": "code",
   "execution_count": 1,
   "metadata": {
    "collapsed": false
   },
   "outputs": [],
   "source": [
    "import pandas as pd"
   ]
  },
  {
   "cell_type": "markdown",
   "metadata": {},
   "source": [
    "Чтобы загрузить эту таблицу в `pandas`, можно было скопировать её в какой-нибудь табличный процессор (например, Excel, Numbers или OpenOffice.org Calc), сохранить как CSV и загрузить с помощью `pd.read_csv`, но на самом деле всё проще: можно загружать сразу html-таблички.\n",
    "\n",
    "Есть одна небольшая проблема: ссылка, упомянутая выше, указывает не на страницу с таблицей, а на форму — собственно табличку вы получаете после выбора параметров в форме и нажатия на кнопку, при этом сами параметры не передаются в адресной строке (это так называемый POST-запрос). Поэтому загрузить эти данные в `pandas`, просто подставив адрес нужной страницы, не удастся. Так что я сохранил html-файл на свой локальный компьютер. Потом мы обсуждали этот пример со студентами и, похоже, своими запросами временно «положили» источник данных, так что пришлось пользоваться [сохранённой копией](http://math-info.hse.ru/f/2014-15/nes-stat/climate.html) на страничке [нашего курса](http://math-info.hse.ru/s14/s).\n",
    "\n",
    "Итак, данные у нас есть — поехали."
   ]
  },
  {
   "cell_type": "code",
   "execution_count": 2,
   "metadata": {
    "collapsed": false
   },
   "outputs": [],
   "source": [
    "dat = pd.read_html(\"http://math-info.hse.ru/f/2014-15/nes-stat/climate.html\", header=0)"
   ]
  },
  {
   "cell_type": "markdown",
   "metadata": {},
   "source": [
    "Параметр `header=0` показывает, что нулевая (то есть первая) строчка должна использоваться как строка заголовков (имён переменных). Без него возникает множество технических проблем, которые, впрочем, тоже преодолимы. \n",
    "\n",
    "Одако, если вывести сейчас переменную `dat`, получится что-то не очень понятное — вместо красивой таблички нечто текстовое. А если попытаться работать с `dat` как с dataframe (так в `pandas`, вслед за `R`, называются таблицы с данными), то и вообще ничего не получится. Дело в том, что `dat` сейчас — не dataframe. А что же?"
   ]
  },
  {
   "cell_type": "code",
   "execution_count": 3,
   "metadata": {
    "collapsed": false
   },
   "outputs": [
    {
     "data": {
      "text/plain": [
       "list"
      ]
     },
     "execution_count": 3,
     "metadata": {},
     "output_type": "execute_result"
    }
   ],
   "source": [
    "type(dat)"
   ]
  },
  {
   "cell_type": "markdown",
   "metadata": {},
   "source": [
    "Логично. Это список. На html-страничке ведь может быть несколько таблиц. `pd.read_html` каждую из них поместит в свой dataframe и создаст список dataframe'ов. В нашем случае этот список очень простой. Если бы мы читали документацию, то сразу бы об этом узнали."
   ]
  },
  {
   "cell_type": "code",
   "execution_count": 4,
   "metadata": {
    "collapsed": false
   },
   "outputs": [
    {
     "data": {
      "text/plain": [
       "1"
      ]
     },
     "execution_count": 4,
     "metadata": {},
     "output_type": "execute_result"
    }
   ],
   "source": [
    "len(dat)"
   ]
  },
  {
   "cell_type": "markdown",
   "metadata": {},
   "source": [
    "В нём всего один элемент. Извлечём его из списка и назовём тем же именем, что раньше называли список. (Сам список нам больше не понадобится.)"
   ]
  },
  {
   "cell_type": "code",
   "execution_count": 5,
   "metadata": {
    "collapsed": false
   },
   "outputs": [
    {
     "data": {
      "text/html": [
       "<div style=\"max-height:1000px;max-width:1500px;overflow:auto;\">\n",
       "<table border=\"1\" class=\"dataframe\">\n",
       "  <thead>\n",
       "    <tr style=\"text-align: right;\">\n",
       "      <th></th>\n",
       "      <th>STATION_ID</th>\n",
       "      <th>STATION_NM</th>\n",
       "      <th>DATE_OBS</th>\n",
       "      <th>TMPMAX</th>\n",
       "      <th>Q</th>\n",
       "      <th>TMPMIN</th>\n",
       "      <th>Q.1</th>\n",
       "      <th>TMPMN</th>\n",
       "      <th>Q.2</th>\n",
       "      <th>PRECIP</th>\n",
       "      <th>Q.3</th>\n",
       "      <th>D</th>\n",
       "    </tr>\n",
       "  </thead>\n",
       "  <tbody>\n",
       "    <tr>\n",
       "      <th>0</th>\n",
       "      <td> 27612</td>\n",
       "      <td> МОСКВА ВДНХ</td>\n",
       "      <td> 1948-01-01</td>\n",
       "      <td>NaN</td>\n",
       "      <td> 9</td>\n",
       "      <td>NaN</td>\n",
       "      <td> 9</td>\n",
       "      <td>NaN</td>\n",
       "      <td> 9</td>\n",
       "      <td>NaN</td>\n",
       "      <td> 9</td>\n",
       "      <td> 9</td>\n",
       "    </tr>\n",
       "    <tr>\n",
       "      <th>1</th>\n",
       "      <td> 27612</td>\n",
       "      <td> МОСКВА ВДНХ</td>\n",
       "      <td> 1948-01-02</td>\n",
       "      <td>NaN</td>\n",
       "      <td> 9</td>\n",
       "      <td>NaN</td>\n",
       "      <td> 9</td>\n",
       "      <td>NaN</td>\n",
       "      <td> 9</td>\n",
       "      <td>NaN</td>\n",
       "      <td> 9</td>\n",
       "      <td> 9</td>\n",
       "    </tr>\n",
       "    <tr>\n",
       "      <th>2</th>\n",
       "      <td> 27612</td>\n",
       "      <td> МОСКВА ВДНХ</td>\n",
       "      <td> 1948-01-03</td>\n",
       "      <td>NaN</td>\n",
       "      <td> 9</td>\n",
       "      <td>NaN</td>\n",
       "      <td> 9</td>\n",
       "      <td>NaN</td>\n",
       "      <td> 9</td>\n",
       "      <td>NaN</td>\n",
       "      <td> 9</td>\n",
       "      <td> 9</td>\n",
       "    </tr>\n",
       "  </tbody>\n",
       "</table>\n",
       "</div>"
      ],
      "text/plain": [
       "   STATION_ID   STATION_NM    DATE_OBS  TMPMAX  Q  TMPMIN  Q.1  TMPMN  Q.2  \\\n",
       "0       27612  МОСКВА ВДНХ  1948-01-01     NaN  9     NaN    9    NaN    9   \n",
       "1       27612  МОСКВА ВДНХ  1948-01-02     NaN  9     NaN    9    NaN    9   \n",
       "2       27612  МОСКВА ВДНХ  1948-01-03     NaN  9     NaN    9    NaN    9   \n",
       "\n",
       "   PRECIP  Q.3  D  \n",
       "0     NaN    9  9  \n",
       "1     NaN    9  9  \n",
       "2     NaN    9  9  "
      ]
     },
     "execution_count": 5,
     "metadata": {},
     "output_type": "execute_result"
    }
   ],
   "source": [
    "dat = dat[0]\n",
    "dat.head(3)"
   ]
  },
  {
   "cell_type": "markdown",
   "metadata": {},
   "source": [
    "Теперь в `dat` лежит честный dataframe. Часть столбцов имеют понятный без специальных пояснений смысл: `TMPMAX` — максимальная температура за день, `TMPMIN` — минимальная, `TMPMN` — средняя (от слова *mean*), `PRECIP` — уровень осадков (*precipitation*). Ещё есть непонятные столбцы `Q` и `D`, значения которых мне не ведомы. Название и идентификатор станции нам тоже не слишком нужны. От них можно избавиться, например, вот так."
   ]
  },
  {
   "cell_type": "code",
   "execution_count": 6,
   "metadata": {
    "collapsed": false
   },
   "outputs": [],
   "source": [
    "dat.drop(['STATION_ID', 'STATION_NM', 'Q','Q.1','Q.2','Q.3','D'],inplace=True,axis=1)"
   ]
  },
  {
   "cell_type": "markdown",
   "metadata": {},
   "source": [
    "Параметр `axis=1` означает, что нужно выкинуть столбцы, а не строки, `inplace=True` означает, что это нужно сделать «на месте», то есть модифицировать dataframe, а не вернуть его версию."
   ]
  },
  {
   "cell_type": "code",
   "execution_count": 7,
   "metadata": {
    "collapsed": false
   },
   "outputs": [
    {
     "data": {
      "text/html": [
       "<div style=\"max-height:1000px;max-width:1500px;overflow:auto;\">\n",
       "<table border=\"1\" class=\"dataframe\">\n",
       "  <thead>\n",
       "    <tr style=\"text-align: right;\">\n",
       "      <th></th>\n",
       "      <th>DATE_OBS</th>\n",
       "      <th>TMPMAX</th>\n",
       "      <th>TMPMIN</th>\n",
       "      <th>TMPMN</th>\n",
       "      <th>PRECIP</th>\n",
       "    </tr>\n",
       "  </thead>\n",
       "  <tbody>\n",
       "    <tr>\n",
       "      <th>0</th>\n",
       "      <td> 1948-01-01</td>\n",
       "      <td>NaN</td>\n",
       "      <td>NaN</td>\n",
       "      <td>NaN</td>\n",
       "      <td>NaN</td>\n",
       "    </tr>\n",
       "    <tr>\n",
       "      <th>1</th>\n",
       "      <td> 1948-01-02</td>\n",
       "      <td>NaN</td>\n",
       "      <td>NaN</td>\n",
       "      <td>NaN</td>\n",
       "      <td>NaN</td>\n",
       "    </tr>\n",
       "    <tr>\n",
       "      <th>2</th>\n",
       "      <td> 1948-01-03</td>\n",
       "      <td>NaN</td>\n",
       "      <td>NaN</td>\n",
       "      <td>NaN</td>\n",
       "      <td>NaN</td>\n",
       "    </tr>\n",
       "    <tr>\n",
       "      <th>3</th>\n",
       "      <td> 1948-01-04</td>\n",
       "      <td>NaN</td>\n",
       "      <td>NaN</td>\n",
       "      <td>NaN</td>\n",
       "      <td>NaN</td>\n",
       "    </tr>\n",
       "    <tr>\n",
       "      <th>4</th>\n",
       "      <td> 1948-01-05</td>\n",
       "      <td>NaN</td>\n",
       "      <td>NaN</td>\n",
       "      <td>NaN</td>\n",
       "      <td>NaN</td>\n",
       "    </tr>\n",
       "  </tbody>\n",
       "</table>\n",
       "</div>"
      ],
      "text/plain": [
       "     DATE_OBS  TMPMAX  TMPMIN  TMPMN  PRECIP\n",
       "0  1948-01-01     NaN     NaN    NaN     NaN\n",
       "1  1948-01-02     NaN     NaN    NaN     NaN\n",
       "2  1948-01-03     NaN     NaN    NaN     NaN\n",
       "3  1948-01-04     NaN     NaN    NaN     NaN\n",
       "4  1948-01-05     NaN     NaN    NaN     NaN"
      ]
     },
     "execution_count": 7,
     "metadata": {},
     "output_type": "execute_result"
    }
   ],
   "source": [
    "dat.head()"
   ]
  },
  {
   "cell_type": "markdown",
   "metadata": {},
   "source": [
    "В строчках за 1948 год нет никаких полезных данных и их надо бы выкинуть. Проще всего это сделать с помощью `.dropna` — это команда, выкидывающая строки (или столбцы, если вызывать с `axis=1`), в которых есть неопределенные ячейки (например, содержащие `NaN`)."
   ]
  },
  {
   "cell_type": "code",
   "execution_count": 8,
   "metadata": {
    "collapsed": false
   },
   "outputs": [
    {
     "data": {
      "text/html": [
       "<div style=\"max-height:1000px;max-width:1500px;overflow:auto;\">\n",
       "<table border=\"1\" class=\"dataframe\">\n",
       "  <thead>\n",
       "    <tr style=\"text-align: right;\">\n",
       "      <th></th>\n",
       "      <th>DATE_OBS</th>\n",
       "      <th>TMPMAX</th>\n",
       "      <th>TMPMIN</th>\n",
       "      <th>TMPMN</th>\n",
       "      <th>PRECIP</th>\n",
       "    </tr>\n",
       "  </thead>\n",
       "  <tbody>\n",
       "    <tr>\n",
       "      <th>345</th>\n",
       "      <td> 1948-12-11</td>\n",
       "      <td> 2.4</td>\n",
       "      <td> -4.5</td>\n",
       "      <td> -1.1</td>\n",
       "      <td> 0.0</td>\n",
       "    </tr>\n",
       "    <tr>\n",
       "      <th>346</th>\n",
       "      <td> 1948-12-12</td>\n",
       "      <td> 1.9</td>\n",
       "      <td> -8.7</td>\n",
       "      <td> -6.2</td>\n",
       "      <td> 0.5</td>\n",
       "    </tr>\n",
       "    <tr>\n",
       "      <th>347</th>\n",
       "      <td> 1948-12-13</td>\n",
       "      <td>-7.4</td>\n",
       "      <td>-12.3</td>\n",
       "      <td>-10.1</td>\n",
       "      <td> 0.0</td>\n",
       "    </tr>\n",
       "    <tr>\n",
       "      <th>348</th>\n",
       "      <td> 1948-12-14</td>\n",
       "      <td>-5.6</td>\n",
       "      <td>-13.2</td>\n",
       "      <td> -9.4</td>\n",
       "      <td> 0.0</td>\n",
       "    </tr>\n",
       "    <tr>\n",
       "      <th>349</th>\n",
       "      <td> 1948-12-15</td>\n",
       "      <td>-3.6</td>\n",
       "      <td> -9.2</td>\n",
       "      <td> -6.6</td>\n",
       "      <td> 0.0</td>\n",
       "    </tr>\n",
       "  </tbody>\n",
       "</table>\n",
       "</div>"
      ],
      "text/plain": [
       "       DATE_OBS  TMPMAX  TMPMIN  TMPMN  PRECIP\n",
       "345  1948-12-11     2.4    -4.5   -1.1     0.0\n",
       "346  1948-12-12     1.9    -8.7   -6.2     0.5\n",
       "347  1948-12-13    -7.4   -12.3  -10.1     0.0\n",
       "348  1948-12-14    -5.6   -13.2   -9.4     0.0\n",
       "349  1948-12-15    -3.6    -9.2   -6.6     0.0"
      ]
     },
     "execution_count": 8,
     "metadata": {},
     "output_type": "execute_result"
    }
   ],
   "source": [
    "dat.dropna(inplace=True)\n",
    "dat.head()"
   ]
  },
  {
   "cell_type": "markdown",
   "metadata": {},
   "source": [
    "Как видимо, 1948 год начинается не с начала и в нём есть только кусок декабря, так что мы его тоже, пожалуй, выкинем, от греха подальше. Я это сделал, просмотрев табличку вручную и заметив номер нужной мне строчки."
   ]
  },
  {
   "cell_type": "code",
   "execution_count": 9,
   "metadata": {
    "collapsed": false
   },
   "outputs": [
    {
     "data": {
      "text/html": [
       "<div style=\"max-height:1000px;max-width:1500px;overflow:auto;\">\n",
       "<table border=\"1\" class=\"dataframe\">\n",
       "  <thead>\n",
       "    <tr style=\"text-align: right;\">\n",
       "      <th></th>\n",
       "      <th>DATE_OBS</th>\n",
       "      <th>TMPMAX</th>\n",
       "      <th>TMPMIN</th>\n",
       "      <th>TMPMN</th>\n",
       "      <th>PRECIP</th>\n",
       "    </tr>\n",
       "  </thead>\n",
       "  <tbody>\n",
       "    <tr>\n",
       "      <th>365</th>\n",
       "      <td> 1948-12-31</td>\n",
       "      <td>-1.2</td>\n",
       "      <td>-5.3</td>\n",
       "      <td>-2.3</td>\n",
       "      <td> 0.0</td>\n",
       "    </tr>\n",
       "    <tr>\n",
       "      <th>366</th>\n",
       "      <td> 1949-01-01</td>\n",
       "      <td>-2.1</td>\n",
       "      <td>-6.7</td>\n",
       "      <td>-4.2</td>\n",
       "      <td> 0.0</td>\n",
       "    </tr>\n",
       "    <tr>\n",
       "      <th>367</th>\n",
       "      <td> 1949-01-02</td>\n",
       "      <td>-0.5</td>\n",
       "      <td>-6.7</td>\n",
       "      <td>-1.2</td>\n",
       "      <td> 4.2</td>\n",
       "    </tr>\n",
       "    <tr>\n",
       "      <th>368</th>\n",
       "      <td> 1949-01-03</td>\n",
       "      <td> 1.1</td>\n",
       "      <td>-2.1</td>\n",
       "      <td>-0.7</td>\n",
       "      <td> 0.0</td>\n",
       "    </tr>\n",
       "    <tr>\n",
       "      <th>369</th>\n",
       "      <td> 1949-01-04</td>\n",
       "      <td> 3.3</td>\n",
       "      <td> 0.9</td>\n",
       "      <td> 2.3</td>\n",
       "      <td> 0.0</td>\n",
       "    </tr>\n",
       "    <tr>\n",
       "      <th>370</th>\n",
       "      <td> 1949-01-05</td>\n",
       "      <td> 4.0</td>\n",
       "      <td>-0.9</td>\n",
       "      <td> 1.1</td>\n",
       "      <td> 0.8</td>\n",
       "    </tr>\n",
       "  </tbody>\n",
       "</table>\n",
       "</div>"
      ],
      "text/plain": [
       "       DATE_OBS  TMPMAX  TMPMIN  TMPMN  PRECIP\n",
       "365  1948-12-31    -1.2    -5.3   -2.3     0.0\n",
       "366  1949-01-01    -2.1    -6.7   -4.2     0.0\n",
       "367  1949-01-02    -0.5    -6.7   -1.2     4.2\n",
       "368  1949-01-03     1.1    -2.1   -0.7     0.0\n",
       "369  1949-01-04     3.3     0.9    2.3     0.0\n",
       "370  1949-01-05     4.0    -0.9    1.1     0.8"
      ]
     },
     "execution_count": 9,
     "metadata": {},
     "output_type": "execute_result"
    }
   ],
   "source": [
    "dat.loc[365:370]"
   ]
  },
  {
   "cell_type": "code",
   "execution_count": 10,
   "metadata": {
    "collapsed": false
   },
   "outputs": [
    {
     "data": {
      "text/html": [
       "<div style=\"max-height:1000px;max-width:1500px;overflow:auto;\">\n",
       "<table border=\"1\" class=\"dataframe\">\n",
       "  <thead>\n",
       "    <tr style=\"text-align: right;\">\n",
       "      <th></th>\n",
       "      <th>DATE_OBS</th>\n",
       "      <th>TMPMAX</th>\n",
       "      <th>TMPMIN</th>\n",
       "      <th>TMPMN</th>\n",
       "      <th>PRECIP</th>\n",
       "    </tr>\n",
       "  </thead>\n",
       "  <tbody>\n",
       "    <tr>\n",
       "      <th>366</th>\n",
       "      <td> 1949-01-01</td>\n",
       "      <td>-2.1</td>\n",
       "      <td>-6.7</td>\n",
       "      <td>-4.2</td>\n",
       "      <td> 0.0</td>\n",
       "    </tr>\n",
       "    <tr>\n",
       "      <th>367</th>\n",
       "      <td> 1949-01-02</td>\n",
       "      <td>-0.5</td>\n",
       "      <td>-6.7</td>\n",
       "      <td>-1.2</td>\n",
       "      <td> 4.2</td>\n",
       "    </tr>\n",
       "    <tr>\n",
       "      <th>368</th>\n",
       "      <td> 1949-01-03</td>\n",
       "      <td> 1.1</td>\n",
       "      <td>-2.1</td>\n",
       "      <td>-0.7</td>\n",
       "      <td> 0.0</td>\n",
       "    </tr>\n",
       "    <tr>\n",
       "      <th>369</th>\n",
       "      <td> 1949-01-04</td>\n",
       "      <td> 3.3</td>\n",
       "      <td> 0.9</td>\n",
       "      <td> 2.3</td>\n",
       "      <td> 0.0</td>\n",
       "    </tr>\n",
       "    <tr>\n",
       "      <th>370</th>\n",
       "      <td> 1949-01-05</td>\n",
       "      <td> 4.0</td>\n",
       "      <td>-0.9</td>\n",
       "      <td> 1.1</td>\n",
       "      <td> 0.8</td>\n",
       "    </tr>\n",
       "  </tbody>\n",
       "</table>\n",
       "</div>"
      ],
      "text/plain": [
       "       DATE_OBS  TMPMAX  TMPMIN  TMPMN  PRECIP\n",
       "366  1949-01-01    -2.1    -6.7   -4.2     0.0\n",
       "367  1949-01-02    -0.5    -6.7   -1.2     4.2\n",
       "368  1949-01-03     1.1    -2.1   -0.7     0.0\n",
       "369  1949-01-04     3.3     0.9    2.3     0.0\n",
       "370  1949-01-05     4.0    -0.9    1.1     0.8"
      ]
     },
     "execution_count": 10,
     "metadata": {},
     "output_type": "execute_result"
    }
   ],
   "source": [
    "dat.drop(range(345,366),inplace=True)\n",
    "dat.head()"
   ]
  },
  {
   "cell_type": "markdown",
   "metadata": {},
   "source": [
    "### Рисуем\n",
    "Чтобы убедиться, что всё в порядке, нарисуем несколько картинок."
   ]
  },
  {
   "cell_type": "code",
   "execution_count": 11,
   "metadata": {
    "collapsed": false
   },
   "outputs": [
    {
     "data": {
      "image/png": "[encoded data removed]",
      "text/plain": [
       "<matplotlib.figure.Figure at 0x10af8ce10>"
      ]
     },
     "metadata": {},
     "output_type": "display_data"
    }
   ],
   "source": [
    "%matplotlib inline\n",
    "dat.plot();"
   ]
  },
  {
   "cell_type": "markdown",
   "metadata": {},
   "source": [
    "Что-нибудь видно? Не очень. Это потому, что мы попытались вывести на одном графике четыре разных параметра, да ещё и за кучу лет. Давайте возьмём поменьше данных для визуализации."
   ]
  },
  {
   "cell_type": "code",
   "execution_count": 12,
   "metadata": {
    "collapsed": false
   },
   "outputs": [
    {
     "data": {
      "image/png": "[encoded data removed]",
      "text/plain": [
       "<matplotlib.figure.Figure at 0x10bc25110>"
      ]
     },
     "metadata": {},
     "output_type": "display_data"
    }
   ],
   "source": [
    "# только средняя температура и данные за три года\n",
    "dat.iloc[0:365*3]['TMPMN'].plot();"
   ]
  },
  {
   "cell_type": "markdown",
   "metadata": {},
   "source": [
    "Это график температуры за первые три года наблюдений."
   ]
  },
  {
   "cell_type": "code",
   "execution_count": 13,
   "metadata": {
    "collapsed": false
   },
   "outputs": [
    {
     "data": {
      "image/png": "[encoded data removed]",
      "text/plain": [
       "<matplotlib.figure.Figure at 0x10a86bb10>"
      ]
     },
     "metadata": {},
     "output_type": "display_data"
    }
   ],
   "source": [
    "dat.iloc[0:365*3]['TMPMN'].plot()\n",
    "pd.rolling_mean(dat.iloc[0:365*3]['TMPMN'],30).plot(lw=2,color='red');"
   ]
  },
  {
   "cell_type": "markdown",
   "metadata": {},
   "source": [
    "А здесь на него наложено *скользящее среднее* (*rolling mean*) за месяц, сглаживающее резкие колебания."
   ]
  },
  {
   "cell_type": "markdown",
   "metadata": {},
   "source": [
    "Посмотрим, что происходит в масштабе десятилетий."
   ]
  },
  {
   "cell_type": "code",
   "execution_count": 14,
   "metadata": {
    "collapsed": false
   },
   "outputs": [
    {
     "data": {
      "image/png": "[encoded data removed]",
      "text/plain": [
       "<matplotlib.figure.Figure at 0x10ba5a190>"
      ]
     },
     "metadata": {},
     "output_type": "display_data"
    }
   ],
   "source": [
    "pd.rolling_mean(dat['TMPMN'],365).plot(lw=2,color='blue');"
   ]
  },
  {
   "cell_type": "markdown",
   "metadata": {},
   "source": [
    "Здесь было сглаживание по годам."
   ]
  },
  {
   "cell_type": "code",
   "execution_count": 15,
   "metadata": {
    "collapsed": false
   },
   "outputs": [
    {
     "data": {
      "image/png": "[encoded data removed]",
      "text/plain": [
       "<matplotlib.figure.Figure at 0x10a840650>"
      ]
     },
     "metadata": {},
     "output_type": "display_data"
    }
   ],
   "source": [
    "pd.rolling_mean(dat['TMPMN'],365).plot(color='blue')\n",
    "pd.rolling_mean(dat['TMPMN'],3650).plot(lw=2,color='red');"
   ]
  },
  {
   "cell_type": "markdown",
   "metadata": {},
   "source": [
    "Сглаживание по годам и десятилетиям на одной картинке."
   ]
  },
  {
   "cell_type": "code",
   "execution_count": 16,
   "metadata": {
    "collapsed": false
   },
   "outputs": [
    {
     "data": {
      "image/png": "[encoded data removed]",
      "text/plain": [
       "<matplotlib.figure.Figure at 0x10c3ffa90>"
      ]
     },
     "metadata": {},
     "output_type": "display_data"
    }
   ],
   "source": [
    "pd.rolling_mean(dat['TMPMN'],3650).plot(color='red');"
   ]
  },
  {
   "cell_type": "markdown",
   "metadata": {},
   "source": [
    "И, наконец, красный график отдельно. Если вас когда-нибудь интресовал вопрос о том, есть или нет глобальное потепление, то теперь, наверное, он отпал. (Вообще-то такого вопроса нет: климат меняется и действительно теплеет; вопрос, который широко обсуждается — является ли это результатом действий человека или это естественный процесс. Но на него мы так сходу не ответим.)"
   ]
  },
  {
   "cell_type": "markdown",
   "metadata": {},
   "source": [
    "### Упорядочиваем\n",
    "Картинки красивые, но по вертикальной оси написана какая-то ерунда. Это потому, что строчки сейчас индексируются числами (да ещё и отсчёт начинается с 367). Для более разумного поведения было бы хорошо индексировать строчки датами из колонки `DATE_OBS`. В нашем случае проблема осложняется тем, что система не воспринимает эту колонку как колонку с датами. Давайте же решим эту проблему."
   ]
  },
  {
   "cell_type": "code",
   "execution_count": 17,
   "metadata": {
    "collapsed": false
   },
   "outputs": [
    {
     "data": {
      "text/plain": [
       "366   1949-01-01\n",
       "367   1949-01-02\n",
       "368   1949-01-03\n",
       "369   1949-01-04\n",
       "370   1949-01-05\n",
       "371   1949-01-06\n",
       "372   1949-01-07\n",
       "373   1949-01-08\n",
       "374   1949-01-09\n",
       "375   1949-01-10\n",
       "376   1949-01-11\n",
       "377   1949-01-12\n",
       "378   1949-01-13\n",
       "379   1949-01-14\n",
       "380   1949-01-15\n",
       "...\n",
       "21474   2006-10-17\n",
       "21475   2006-10-18\n",
       "21476   2006-10-19\n",
       "21477   2006-10-20\n",
       "21478   2006-10-21\n",
       "21479   2006-10-22\n",
       "21480   2006-10-23\n",
       "21481   2006-10-24\n",
       "21482   2006-10-25\n",
       "21483   2006-10-26\n",
       "21484   2006-10-27\n",
       "21485   2006-10-28\n",
       "21486   2006-10-29\n",
       "21487   2006-10-30\n",
       "21488   2006-10-31\n",
       "Name: DATE_OBS, Length: 21121, dtype: datetime64[ns]"
      ]
     },
     "execution_count": 17,
     "metadata": {},
     "output_type": "execute_result"
    }
   ],
   "source": [
    "dat['DATE_OBS'] = pd.to_datetime(dat['DATE_OBS'])\n",
    "dat['DATE_OBS']"
   ]
  },
  {
   "cell_type": "markdown",
   "metadata": {},
   "source": [
    "Мы видим `dtype: datetime64`, что означает, что теперь типом данных являются даты. Сделаем теперь этот столбец индексом."
   ]
  },
  {
   "cell_type": "code",
   "execution_count": 18,
   "metadata": {
    "collapsed": false
   },
   "outputs": [
    {
     "data": {
      "text/html": [
       "<div style=\"max-height:1000px;max-width:1500px;overflow:auto;\">\n",
       "<table border=\"1\" class=\"dataframe\">\n",
       "  <thead>\n",
       "    <tr style=\"text-align: right;\">\n",
       "      <th></th>\n",
       "      <th>DATE_OBS</th>\n",
       "      <th>TMPMAX</th>\n",
       "      <th>TMPMIN</th>\n",
       "      <th>TMPMN</th>\n",
       "      <th>PRECIP</th>\n",
       "    </tr>\n",
       "    <tr>\n",
       "      <th>DATE_OBS</th>\n",
       "      <th></th>\n",
       "      <th></th>\n",
       "      <th></th>\n",
       "      <th></th>\n",
       "      <th></th>\n",
       "    </tr>\n",
       "  </thead>\n",
       "  <tbody>\n",
       "    <tr>\n",
       "      <th>1949-01-01</th>\n",
       "      <td>1949-01-01</td>\n",
       "      <td>-2.1</td>\n",
       "      <td>-6.7</td>\n",
       "      <td>-4.2</td>\n",
       "      <td> 0.0</td>\n",
       "    </tr>\n",
       "    <tr>\n",
       "      <th>1949-01-02</th>\n",
       "      <td>1949-01-02</td>\n",
       "      <td>-0.5</td>\n",
       "      <td>-6.7</td>\n",
       "      <td>-1.2</td>\n",
       "      <td> 4.2</td>\n",
       "    </tr>\n",
       "    <tr>\n",
       "      <th>1949-01-03</th>\n",
       "      <td>1949-01-03</td>\n",
       "      <td> 1.1</td>\n",
       "      <td>-2.1</td>\n",
       "      <td>-0.7</td>\n",
       "      <td> 0.0</td>\n",
       "    </tr>\n",
       "    <tr>\n",
       "      <th>1949-01-04</th>\n",
       "      <td>1949-01-04</td>\n",
       "      <td> 3.3</td>\n",
       "      <td> 0.9</td>\n",
       "      <td> 2.3</td>\n",
       "      <td> 0.0</td>\n",
       "    </tr>\n",
       "    <tr>\n",
       "      <th>1949-01-05</th>\n",
       "      <td>1949-01-05</td>\n",
       "      <td> 4.0</td>\n",
       "      <td>-0.9</td>\n",
       "      <td> 1.1</td>\n",
       "      <td> 0.8</td>\n",
       "    </tr>\n",
       "  </tbody>\n",
       "</table>\n",
       "</div>"
      ],
      "text/plain": [
       "             DATE_OBS  TMPMAX  TMPMIN  TMPMN  PRECIP\n",
       "DATE_OBS                                            \n",
       "1949-01-01 1949-01-01    -2.1    -6.7   -4.2     0.0\n",
       "1949-01-02 1949-01-02    -0.5    -6.7   -1.2     4.2\n",
       "1949-01-03 1949-01-03     1.1    -2.1   -0.7     0.0\n",
       "1949-01-04 1949-01-04     3.3     0.9    2.3     0.0\n",
       "1949-01-05 1949-01-05     4.0    -0.9    1.1     0.8"
      ]
     },
     "execution_count": 18,
     "metadata": {},
     "output_type": "execute_result"
    }
   ],
   "source": [
    "dat.index=dat['DATE_OBS']\n",
    "dat.head()"
   ]
  },
  {
   "cell_type": "code",
   "execution_count": 19,
   "metadata": {
    "collapsed": false
   },
   "outputs": [
    {
     "data": {
      "image/png": "[encoded data removed]",
      "text/plain": [
       "<matplotlib.figure.Figure at 0x10bf9f490>"
      ]
     },
     "metadata": {},
     "output_type": "display_data"
    }
   ],
   "source": [
    "pd.rolling_mean(dat['TMPMN'],3650).plot(lw=2,color='red');"
   ]
  },
  {
   "cell_type": "markdown",
   "metadata": {},
   "source": [
    "Теперь горизонтальная ось подписана верно. Кстати, срезы с датами тоже работают."
   ]
  },
  {
   "cell_type": "code",
   "execution_count": 20,
   "metadata": {
    "collapsed": false
   },
   "outputs": [
    {
     "data": {
      "text/html": [
       "<div style=\"max-height:1000px;max-width:1500px;overflow:auto;\">\n",
       "<table border=\"1\" class=\"dataframe\">\n",
       "  <thead>\n",
       "    <tr style=\"text-align: right;\">\n",
       "      <th></th>\n",
       "      <th>DATE_OBS</th>\n",
       "      <th>TMPMAX</th>\n",
       "      <th>TMPMIN</th>\n",
       "      <th>TMPMN</th>\n",
       "      <th>PRECIP</th>\n",
       "    </tr>\n",
       "    <tr>\n",
       "      <th>DATE_OBS</th>\n",
       "      <th></th>\n",
       "      <th></th>\n",
       "      <th></th>\n",
       "      <th></th>\n",
       "      <th></th>\n",
       "    </tr>\n",
       "  </thead>\n",
       "  <tbody>\n",
       "    <tr>\n",
       "      <th>2001-01-25</th>\n",
       "      <td>2001-01-25</td>\n",
       "      <td> -6.6</td>\n",
       "      <td>-14.8</td>\n",
       "      <td>-11.0</td>\n",
       "      <td>  0.0</td>\n",
       "    </tr>\n",
       "    <tr>\n",
       "      <th>2001-01-26</th>\n",
       "      <td>2001-01-26</td>\n",
       "      <td> -3.5</td>\n",
       "      <td> -8.7</td>\n",
       "      <td> -5.3</td>\n",
       "      <td>  0.7</td>\n",
       "    </tr>\n",
       "    <tr>\n",
       "      <th>2001-01-27</th>\n",
       "      <td>2001-01-27</td>\n",
       "      <td> -0.4</td>\n",
       "      <td> -4.5</td>\n",
       "      <td> -2.5</td>\n",
       "      <td>  2.7</td>\n",
       "    </tr>\n",
       "    <tr>\n",
       "      <th>2001-01-28</th>\n",
       "      <td>2001-01-28</td>\n",
       "      <td>  1.4</td>\n",
       "      <td> -0.4</td>\n",
       "      <td>  0.8</td>\n",
       "      <td>  3.7</td>\n",
       "    </tr>\n",
       "    <tr>\n",
       "      <th>2001-01-29</th>\n",
       "      <td>2001-01-29</td>\n",
       "      <td>  2.9</td>\n",
       "      <td>  0.8</td>\n",
       "      <td>  1.4</td>\n",
       "      <td>  1.1</td>\n",
       "    </tr>\n",
       "    <tr>\n",
       "      <th>2001-01-30</th>\n",
       "      <td>2001-01-30</td>\n",
       "      <td>  1.5</td>\n",
       "      <td> -0.1</td>\n",
       "      <td>  0.6</td>\n",
       "      <td>  1.4</td>\n",
       "    </tr>\n",
       "    <tr>\n",
       "      <th>2001-01-31</th>\n",
       "      <td>2001-01-31</td>\n",
       "      <td>  0.1</td>\n",
       "      <td> -1.8</td>\n",
       "      <td> -0.7</td>\n",
       "      <td>  0.6</td>\n",
       "    </tr>\n",
       "    <tr>\n",
       "      <th>2001-02-01</th>\n",
       "      <td>2001-02-01</td>\n",
       "      <td> -1.7</td>\n",
       "      <td> -7.4</td>\n",
       "      <td> -4.5</td>\n",
       "      <td>  0.0</td>\n",
       "    </tr>\n",
       "    <tr>\n",
       "      <th>2001-02-02</th>\n",
       "      <td>2001-02-02</td>\n",
       "      <td> -3.0</td>\n",
       "      <td>-12.3</td>\n",
       "      <td> -8.1</td>\n",
       "      <td> 13.2</td>\n",
       "    </tr>\n",
       "    <tr>\n",
       "      <th>2001-02-03</th>\n",
       "      <td>2001-02-03</td>\n",
       "      <td> -9.3</td>\n",
       "      <td>-16.7</td>\n",
       "      <td>-13.0</td>\n",
       "      <td>  2.6</td>\n",
       "    </tr>\n",
       "    <tr>\n",
       "      <th>2001-02-04</th>\n",
       "      <td>2001-02-04</td>\n",
       "      <td> -8.4</td>\n",
       "      <td>-16.2</td>\n",
       "      <td>-10.7</td>\n",
       "      <td> 13.4</td>\n",
       "    </tr>\n",
       "    <tr>\n",
       "      <th>2001-02-05</th>\n",
       "      <td>2001-02-05</td>\n",
       "      <td>-11.0</td>\n",
       "      <td>-22.1</td>\n",
       "      <td>-16.0</td>\n",
       "      <td>  0.9</td>\n",
       "    </tr>\n",
       "  </tbody>\n",
       "</table>\n",
       "</div>"
      ],
      "text/plain": [
       "             DATE_OBS  TMPMAX  TMPMIN  TMPMN  PRECIP\n",
       "DATE_OBS                                            \n",
       "2001-01-25 2001-01-25    -6.6   -14.8  -11.0     0.0\n",
       "2001-01-26 2001-01-26    -3.5    -8.7   -5.3     0.7\n",
       "2001-01-27 2001-01-27    -0.4    -4.5   -2.5     2.7\n",
       "2001-01-28 2001-01-28     1.4    -0.4    0.8     3.7\n",
       "2001-01-29 2001-01-29     2.9     0.8    1.4     1.1\n",
       "2001-01-30 2001-01-30     1.5    -0.1    0.6     1.4\n",
       "2001-01-31 2001-01-31     0.1    -1.8   -0.7     0.6\n",
       "2001-02-01 2001-02-01    -1.7    -7.4   -4.5     0.0\n",
       "2001-02-02 2001-02-02    -3.0   -12.3   -8.1    13.2\n",
       "2001-02-03 2001-02-03    -9.3   -16.7  -13.0     2.6\n",
       "2001-02-04 2001-02-04    -8.4   -16.2  -10.7    13.4\n",
       "2001-02-05 2001-02-05   -11.0   -22.1  -16.0     0.9"
      ]
     },
     "execution_count": 20,
     "metadata": {},
     "output_type": "execute_result"
    }
   ],
   "source": [
    "from datetime import datetime\n",
    "dat[datetime(2001,1,25):datetime(2001,2,5)]"
   ]
  },
  {
   "cell_type": "markdown",
   "metadata": {},
   "source": [
    "### Усредняем\n",
    "Впрочем, мы отвлеклись. Вернёмся к нашей задаче: верно ли, что более тёплый март — это признак того, что апрель будет более холодным? Иными словами, правда ли, что средняя температура за март и апрель отрицательно скоррелированы? Чтобы это понять, нам потребуется сформировать новую таблицу, в которой наблюдением (то есть строчкой) будет один год, а переменными (то есть столбцами) будет средняя температура за каждый месяц.\n",
    "\n",
    "Для начала добавим в нашу таблицу столбцы, соответствующие году, месяцу и дню."
   ]
  },
  {
   "cell_type": "code",
   "execution_count": 21,
   "metadata": {
    "collapsed": false
   },
   "outputs": [
    {
     "data": {
      "text/html": [
       "<div style=\"max-height:1000px;max-width:1500px;overflow:auto;\">\n",
       "<table border=\"1\" class=\"dataframe\">\n",
       "  <thead>\n",
       "    <tr style=\"text-align: right;\">\n",
       "      <th></th>\n",
       "      <th>Year</th>\n",
       "      <th>Mon</th>\n",
       "      <th>Day</th>\n",
       "    </tr>\n",
       "    <tr>\n",
       "      <th>DATE_OBS</th>\n",
       "      <th></th>\n",
       "      <th></th>\n",
       "      <th></th>\n",
       "    </tr>\n",
       "  </thead>\n",
       "  <tbody>\n",
       "    <tr>\n",
       "      <th>1949-01-01</th>\n",
       "      <td> 1949</td>\n",
       "      <td> 1</td>\n",
       "      <td> 1</td>\n",
       "    </tr>\n",
       "    <tr>\n",
       "      <th>1949-01-02</th>\n",
       "      <td> 1949</td>\n",
       "      <td> 1</td>\n",
       "      <td> 2</td>\n",
       "    </tr>\n",
       "    <tr>\n",
       "      <th>1949-01-03</th>\n",
       "      <td> 1949</td>\n",
       "      <td> 1</td>\n",
       "      <td> 3</td>\n",
       "    </tr>\n",
       "    <tr>\n",
       "      <th>1949-01-04</th>\n",
       "      <td> 1949</td>\n",
       "      <td> 1</td>\n",
       "      <td> 4</td>\n",
       "    </tr>\n",
       "    <tr>\n",
       "      <th>1949-01-05</th>\n",
       "      <td> 1949</td>\n",
       "      <td> 1</td>\n",
       "      <td> 5</td>\n",
       "    </tr>\n",
       "  </tbody>\n",
       "</table>\n",
       "</div>"
      ],
      "text/plain": [
       "            Year  Mon  Day\n",
       "DATE_OBS                  \n",
       "1949-01-01  1949    1    1\n",
       "1949-01-02  1949    1    2\n",
       "1949-01-03  1949    1    3\n",
       "1949-01-04  1949    1    4\n",
       "1949-01-05  1949    1    5"
      ]
     },
     "execution_count": 21,
     "metadata": {},
     "output_type": "execute_result"
    }
   ],
   "source": [
    "dat['Year']=dat.index.year\n",
    "dat['Mon']=dat.index.month\n",
    "dat['Day']=dat.index.day\n",
    "dates=dat[['Year','Mon','Day']]\n",
    "dates.head()"
   ]
  },
  {
   "cell_type": "markdown",
   "metadata": {},
   "source": [
    "Теперь переопределим индекс более удобным для нас образом."
   ]
  },
  {
   "cell_type": "code",
   "execution_count": 22,
   "metadata": {
    "collapsed": false
   },
   "outputs": [],
   "source": [
    "dat.index=pd.MultiIndex.from_tuples(dates.values.tolist(), names=dates.columns)"
   ]
  },
  {
   "cell_type": "markdown",
   "metadata": {},
   "source": [
    "Предыдущей командой мы создали так называемый *мультииндекс*, то есть индекс с несколькими измерениями. Простейший пример мультииндекса из математики — индекс у матрицы $a_{i,j}$. Можно считать $i$ и $j$ двумя разными индексами, а можно считать пару $(i,j)$ одним мульииндексом. Мультииндекс — способ записать в обычную таблицу многомерную информацию. В данном случае у нас в мультииндексе три измерения — год, месяц, день. Вот так теперь выглядит наш dataframe."
   ]
  },
  {
   "cell_type": "code",
   "execution_count": 23,
   "metadata": {
    "collapsed": false
   },
   "outputs": [
    {
     "data": {
      "text/html": [
       "<div style=\"max-height:1000px;max-width:1500px;overflow:auto;\">\n",
       "<table border=\"1\" class=\"dataframe\">\n",
       "  <thead>\n",
       "    <tr style=\"text-align: right;\">\n",
       "      <th></th>\n",
       "      <th></th>\n",
       "      <th></th>\n",
       "      <th>DATE_OBS</th>\n",
       "      <th>TMPMAX</th>\n",
       "      <th>TMPMIN</th>\n",
       "      <th>TMPMN</th>\n",
       "      <th>PRECIP</th>\n",
       "      <th>Year</th>\n",
       "      <th>Mon</th>\n",
       "      <th>Day</th>\n",
       "    </tr>\n",
       "    <tr>\n",
       "      <th>Year</th>\n",
       "      <th>Mon</th>\n",
       "      <th>Day</th>\n",
       "      <th></th>\n",
       "      <th></th>\n",
       "      <th></th>\n",
       "      <th></th>\n",
       "      <th></th>\n",
       "      <th></th>\n",
       "      <th></th>\n",
       "      <th></th>\n",
       "    </tr>\n",
       "  </thead>\n",
       "  <tbody>\n",
       "    <tr>\n",
       "      <th rowspan=\"5\" valign=\"top\">1949</th>\n",
       "      <th rowspan=\"5\" valign=\"top\">1</th>\n",
       "      <th>1</th>\n",
       "      <td>1949-01-01</td>\n",
       "      <td>-2.1</td>\n",
       "      <td>-6.7</td>\n",
       "      <td>-4.2</td>\n",
       "      <td> 0.0</td>\n",
       "      <td> 1949</td>\n",
       "      <td> 1</td>\n",
       "      <td> 1</td>\n",
       "    </tr>\n",
       "    <tr>\n",
       "      <th>2</th>\n",
       "      <td>1949-01-02</td>\n",
       "      <td>-0.5</td>\n",
       "      <td>-6.7</td>\n",
       "      <td>-1.2</td>\n",
       "      <td> 4.2</td>\n",
       "      <td> 1949</td>\n",
       "      <td> 1</td>\n",
       "      <td> 2</td>\n",
       "    </tr>\n",
       "    <tr>\n",
       "      <th>3</th>\n",
       "      <td>1949-01-03</td>\n",
       "      <td> 1.1</td>\n",
       "      <td>-2.1</td>\n",
       "      <td>-0.7</td>\n",
       "      <td> 0.0</td>\n",
       "      <td> 1949</td>\n",
       "      <td> 1</td>\n",
       "      <td> 3</td>\n",
       "    </tr>\n",
       "    <tr>\n",
       "      <th>4</th>\n",
       "      <td>1949-01-04</td>\n",
       "      <td> 3.3</td>\n",
       "      <td> 0.9</td>\n",
       "      <td> 2.3</td>\n",
       "      <td> 0.0</td>\n",
       "      <td> 1949</td>\n",
       "      <td> 1</td>\n",
       "      <td> 4</td>\n",
       "    </tr>\n",
       "    <tr>\n",
       "      <th>5</th>\n",
       "      <td>1949-01-05</td>\n",
       "      <td> 4.0</td>\n",
       "      <td>-0.9</td>\n",
       "      <td> 1.1</td>\n",
       "      <td> 0.8</td>\n",
       "      <td> 1949</td>\n",
       "      <td> 1</td>\n",
       "      <td> 5</td>\n",
       "    </tr>\n",
       "  </tbody>\n",
       "</table>\n",
       "</div>"
      ],
      "text/plain": [
       "               DATE_OBS  TMPMAX  TMPMIN  TMPMN  PRECIP  Year  Mon  Day\n",
       "Year Mon Day                                                          \n",
       "1949 1   1   1949-01-01    -2.1    -6.7   -4.2     0.0  1949    1    1\n",
       "         2   1949-01-02    -0.5    -6.7   -1.2     4.2  1949    1    2\n",
       "         3   1949-01-03     1.1    -2.1   -0.7     0.0  1949    1    3\n",
       "         4   1949-01-04     3.3     0.9    2.3     0.0  1949    1    4\n",
       "         5   1949-01-05     4.0    -0.9    1.1     0.8  1949    1    5"
      ]
     },
     "execution_count": 23,
     "metadata": {},
     "output_type": "execute_result"
    }
   ],
   "source": [
    "dat.head()"
   ]
  },
  {
   "cell_type": "markdown",
   "metadata": {},
   "source": [
    "Нам нужно для каждого года и каждого месяца найти среднюю температуру за этот месяц. Для этого следует сгруппировать элемены таблички по году и месяцу и к тому, что получилось, применить метод `.mean()`."
   ]
  },
  {
   "cell_type": "code",
   "execution_count": 24,
   "metadata": {
    "collapsed": false
   },
   "outputs": [
    {
     "data": {
      "text/html": [
       "<div style=\"max-height:1000px;max-width:1500px;overflow:auto;\">\n",
       "<table border=\"1\" class=\"dataframe\">\n",
       "  <thead>\n",
       "    <tr style=\"text-align: right;\">\n",
       "      <th></th>\n",
       "      <th></th>\n",
       "      <th>TMPMAX</th>\n",
       "      <th>TMPMIN</th>\n",
       "      <th>TMPMN</th>\n",
       "      <th>PRECIP</th>\n",
       "      <th>Year</th>\n",
       "      <th>Mon</th>\n",
       "      <th>Day</th>\n",
       "    </tr>\n",
       "    <tr>\n",
       "      <th>Year</th>\n",
       "      <th>Mon</th>\n",
       "      <th></th>\n",
       "      <th></th>\n",
       "      <th></th>\n",
       "      <th></th>\n",
       "      <th></th>\n",
       "      <th></th>\n",
       "      <th></th>\n",
       "    </tr>\n",
       "  </thead>\n",
       "  <tbody>\n",
       "    <tr>\n",
       "      <th rowspan=\"5\" valign=\"top\">1949</th>\n",
       "      <th>1</th>\n",
       "      <td> -1.300000</td>\n",
       "      <td> -6.493548</td>\n",
       "      <td> -3.670968</td>\n",
       "      <td> 0.854839</td>\n",
       "      <td> 1949</td>\n",
       "      <td> 1</td>\n",
       "      <td> 16.0</td>\n",
       "    </tr>\n",
       "    <tr>\n",
       "      <th>2</th>\n",
       "      <td> -3.571429</td>\n",
       "      <td>-11.075000</td>\n",
       "      <td> -7.339286</td>\n",
       "      <td> 0.789286</td>\n",
       "      <td> 1949</td>\n",
       "      <td> 2</td>\n",
       "      <td> 14.5</td>\n",
       "    </tr>\n",
       "    <tr>\n",
       "      <th>3</th>\n",
       "      <td>  1.390323</td>\n",
       "      <td> -6.470968</td>\n",
       "      <td> -2.780645</td>\n",
       "      <td> 2.419355</td>\n",
       "      <td> 1949</td>\n",
       "      <td> 3</td>\n",
       "      <td> 16.0</td>\n",
       "    </tr>\n",
       "    <tr>\n",
       "      <th>4</th>\n",
       "      <td>  9.056667</td>\n",
       "      <td> -0.066667</td>\n",
       "      <td>  4.280000</td>\n",
       "      <td> 0.603333</td>\n",
       "      <td> 1949</td>\n",
       "      <td> 4</td>\n",
       "      <td> 15.5</td>\n",
       "    </tr>\n",
       "    <tr>\n",
       "      <th>5</th>\n",
       "      <td> 21.377419</td>\n",
       "      <td>  9.093548</td>\n",
       "      <td> 15.225806</td>\n",
       "      <td> 1.016129</td>\n",
       "      <td> 1949</td>\n",
       "      <td> 5</td>\n",
       "      <td> 16.0</td>\n",
       "    </tr>\n",
       "  </tbody>\n",
       "</table>\n",
       "</div>"
      ],
      "text/plain": [
       "             TMPMAX     TMPMIN      TMPMN    PRECIP  Year  Mon   Day\n",
       "Year Mon                                                            \n",
       "1949 1    -1.300000  -6.493548  -3.670968  0.854839  1949    1  16.0\n",
       "     2    -3.571429 -11.075000  -7.339286  0.789286  1949    2  14.5\n",
       "     3     1.390323  -6.470968  -2.780645  2.419355  1949    3  16.0\n",
       "     4     9.056667  -0.066667   4.280000  0.603333  1949    4  15.5\n",
       "     5    21.377419   9.093548  15.225806  1.016129  1949    5  16.0"
      ]
     },
     "execution_count": 24,
     "metadata": {},
     "output_type": "execute_result"
    }
   ],
   "source": [
    "year_day_mean=dat.groupby(level=[0,1]).mean()\n",
    "year_day_mean.head()"
   ]
  },
  {
   "cell_type": "markdown",
   "metadata": {},
   "source": [
    "Почти то, что нужно. Теперь оставим лишь интересующий нас параметр — среднюю температуру за день (усредненную потом ещё и за месяц), то есть `TMPMN`."
   ]
  },
  {
   "cell_type": "code",
   "execution_count": 25,
   "metadata": {
    "collapsed": false
   },
   "outputs": [
    {
     "data": {
      "text/plain": [
       "Year  Mon\n",
       "1949  1      -3.670968\n",
       "      2      -7.339286\n",
       "      3      -2.780645\n",
       "      4       4.280000\n",
       "      5      15.225806\n",
       "Name: TMPMN, dtype: float64"
      ]
     },
     "execution_count": 25,
     "metadata": {},
     "output_type": "execute_result"
    }
   ],
   "source": [
    "tmpmn=year_day_mean['TMPMN']\n",
    "tmpmn.head()"
   ]
  },
  {
   "cell_type": "markdown",
   "metadata": {},
   "source": [
    "И сделаем из одномерной таблицы с мультииндексом двумерную таблицу с обычными одномерными индексами:"
   ]
  },
  {
   "cell_type": "code",
   "execution_count": 26,
   "metadata": {
    "collapsed": false
   },
   "outputs": [
    {
     "data": {
      "text/html": [
       "<div style=\"max-height:1000px;max-width:1500px;overflow:auto;\">\n",
       "<table border=\"1\" class=\"dataframe\">\n",
       "  <thead>\n",
       "    <tr style=\"text-align: right;\">\n",
       "      <th>Mon</th>\n",
       "      <th>1</th>\n",
       "      <th>2</th>\n",
       "      <th>3</th>\n",
       "      <th>4</th>\n",
       "      <th>5</th>\n",
       "      <th>6</th>\n",
       "      <th>7</th>\n",
       "      <th>8</th>\n",
       "      <th>9</th>\n",
       "      <th>10</th>\n",
       "      <th>11</th>\n",
       "      <th>12</th>\n",
       "    </tr>\n",
       "    <tr>\n",
       "      <th>Year</th>\n",
       "      <th></th>\n",
       "      <th></th>\n",
       "      <th></th>\n",
       "      <th></th>\n",
       "      <th></th>\n",
       "      <th></th>\n",
       "      <th></th>\n",
       "      <th></th>\n",
       "      <th></th>\n",
       "      <th></th>\n",
       "      <th></th>\n",
       "      <th></th>\n",
       "    </tr>\n",
       "  </thead>\n",
       "  <tbody>\n",
       "    <tr>\n",
       "      <th>1949</th>\n",
       "      <td> -3.670968</td>\n",
       "      <td> -7.339286</td>\n",
       "      <td>-2.780645</td>\n",
       "      <td> 4.280000</td>\n",
       "      <td> 15.225806</td>\n",
       "      <td> 16.973333</td>\n",
       "      <td> 17.425806</td>\n",
       "      <td> 16.074194</td>\n",
       "      <td> 11.506667</td>\n",
       "      <td> 4.800000</td>\n",
       "      <td>-0.423333</td>\n",
       "      <td>-4.322581</td>\n",
       "    </tr>\n",
       "    <tr>\n",
       "      <th>1950</th>\n",
       "      <td>-18.022581</td>\n",
       "      <td> -6.764286</td>\n",
       "      <td>-2.225806</td>\n",
       "      <td> 9.043333</td>\n",
       "      <td> 11.738710</td>\n",
       "      <td> 15.123333</td>\n",
       "      <td> 16.177419</td>\n",
       "      <td> 14.080645</td>\n",
       "      <td> 11.990000</td>\n",
       "      <td> 4.745161</td>\n",
       "      <td>-0.433333</td>\n",
       "      <td>-5.503226</td>\n",
       "    </tr>\n",
       "    <tr>\n",
       "      <th>1951</th>\n",
       "      <td>-12.138710</td>\n",
       "      <td>-12.264286</td>\n",
       "      <td>-3.996774</td>\n",
       "      <td> 8.403333</td>\n",
       "      <td>  9.738710</td>\n",
       "      <td> 17.706667</td>\n",
       "      <td> 18.590323</td>\n",
       "      <td> 18.325806</td>\n",
       "      <td> 11.990000</td>\n",
       "      <td> 2.780645</td>\n",
       "      <td>-4.810000</td>\n",
       "      <td>-1.251613</td>\n",
       "    </tr>\n",
       "    <tr>\n",
       "      <th>1952</th>\n",
       "      <td> -4.135484</td>\n",
       "      <td> -7.096552</td>\n",
       "      <td>-9.106452</td>\n",
       "      <td> 5.166667</td>\n",
       "      <td> 10.358065</td>\n",
       "      <td> 17.340000</td>\n",
       "      <td> 17.870968</td>\n",
       "      <td> 16.848387</td>\n",
       "      <td> 12.136667</td>\n",
       "      <td> 3.925806</td>\n",
       "      <td>-1.133333</td>\n",
       "      <td>-5.883871</td>\n",
       "    </tr>\n",
       "    <tr>\n",
       "      <th>1953</th>\n",
       "      <td>-10.403226</td>\n",
       "      <td>-15.614286</td>\n",
       "      <td>-2.606452</td>\n",
       "      <td> 7.183333</td>\n",
       "      <td> 11.645161</td>\n",
       "      <td> 19.193333</td>\n",
       "      <td> 19.025806</td>\n",
       "      <td> 17.290323</td>\n",
       "      <td> 10.046667</td>\n",
       "      <td> 5.790323</td>\n",
       "      <td>-3.156667</td>\n",
       "      <td>-5.632258</td>\n",
       "    </tr>\n",
       "  </tbody>\n",
       "</table>\n",
       "</div>"
      ],
      "text/plain": [
       "Mon          1          2         3         4          5          6   \\\n",
       "Year                                                                   \n",
       "1949  -3.670968  -7.339286 -2.780645  4.280000  15.225806  16.973333   \n",
       "1950 -18.022581  -6.764286 -2.225806  9.043333  11.738710  15.123333   \n",
       "1951 -12.138710 -12.264286 -3.996774  8.403333   9.738710  17.706667   \n",
       "1952  -4.135484  -7.096552 -9.106452  5.166667  10.358065  17.340000   \n",
       "1953 -10.403226 -15.614286 -2.606452  7.183333  11.645161  19.193333   \n",
       "\n",
       "Mon          7          8          9         10        11        12  \n",
       "Year                                                                 \n",
       "1949  17.425806  16.074194  11.506667  4.800000 -0.423333 -4.322581  \n",
       "1950  16.177419  14.080645  11.990000  4.745161 -0.433333 -5.503226  \n",
       "1951  18.590323  18.325806  11.990000  2.780645 -4.810000 -1.251613  \n",
       "1952  17.870968  16.848387  12.136667  3.925806 -1.133333 -5.883871  \n",
       "1953  19.025806  17.290323  10.046667  5.790323 -3.156667 -5.632258  "
      ]
     },
     "execution_count": 26,
     "metadata": {},
     "output_type": "execute_result"
    }
   ],
   "source": [
    "mon_mean=tmpmn.unstack()\n",
    "mon_mean.head()"
   ]
  },
  {
   "cell_type": "markdown",
   "metadata": {},
   "source": [
    "Вот теперь совсем то, что нужно! Дадим месяцам осмысленные имена."
   ]
  },
  {
   "cell_type": "code",
   "execution_count": 27,
   "metadata": {
    "collapsed": false
   },
   "outputs": [],
   "source": [
    "mon_mean.columns=['Jan','Feb','Mar','Apr','May','Jun','Jul',\n",
    "                  'Aug','Sep','Oct','Nov','Dec']"
   ]
  },
  {
   "cell_type": "markdown",
   "metadata": {},
   "source": [
    "### Считаем!\n",
    "Барабанная дробь! Торжественный момент: мы наконец можем посчитать интересующие нас корреляции! Та-дам!"
   ]
  },
  {
   "cell_type": "code",
   "execution_count": 28,
   "metadata": {
    "collapsed": false
   },
   "outputs": [
    {
     "data": {
      "text/html": [
       "<div style=\"max-height:1000px;max-width:1500px;overflow:auto;\">\n",
       "<table border=\"1\" class=\"dataframe\">\n",
       "  <thead>\n",
       "    <tr style=\"text-align: right;\">\n",
       "      <th></th>\n",
       "      <th>Jan</th>\n",
       "      <th>Feb</th>\n",
       "      <th>Mar</th>\n",
       "      <th>Apr</th>\n",
       "      <th>May</th>\n",
       "      <th>Jun</th>\n",
       "      <th>Jul</th>\n",
       "      <th>Aug</th>\n",
       "      <th>Sep</th>\n",
       "      <th>Oct</th>\n",
       "      <th>Nov</th>\n",
       "      <th>Dec</th>\n",
       "    </tr>\n",
       "  </thead>\n",
       "  <tbody>\n",
       "    <tr>\n",
       "      <th>Jan</th>\n",
       "      <td> 1.000000</td>\n",
       "      <td> 0.384755</td>\n",
       "      <td> 0.257302</td>\n",
       "      <td> 0.216484</td>\n",
       "      <td> 0.047153</td>\n",
       "      <td> 0.039691</td>\n",
       "      <td> 0.206568</td>\n",
       "      <td>-0.120758</td>\n",
       "      <td> 0.134955</td>\n",
       "      <td> 0.117936</td>\n",
       "      <td>-0.142560</td>\n",
       "      <td>-0.059667</td>\n",
       "    </tr>\n",
       "    <tr>\n",
       "      <th>Feb</th>\n",
       "      <td> 0.384755</td>\n",
       "      <td> 1.000000</td>\n",
       "      <td> 0.379095</td>\n",
       "      <td> 0.216300</td>\n",
       "      <td> 0.017000</td>\n",
       "      <td> 0.028284</td>\n",
       "      <td> 0.252928</td>\n",
       "      <td>-0.097432</td>\n",
       "      <td> 0.033740</td>\n",
       "      <td> 0.071301</td>\n",
       "      <td> 0.059700</td>\n",
       "      <td>-0.012276</td>\n",
       "    </tr>\n",
       "    <tr>\n",
       "      <th>Mar</th>\n",
       "      <td> 0.257302</td>\n",
       "      <td> 0.379095</td>\n",
       "      <td> 1.000000</td>\n",
       "      <td> 0.328143</td>\n",
       "      <td> 0.071455</td>\n",
       "      <td> 0.177538</td>\n",
       "      <td> 0.091281</td>\n",
       "      <td> 0.022202</td>\n",
       "      <td>-0.081379</td>\n",
       "      <td>-0.037189</td>\n",
       "      <td>-0.031521</td>\n",
       "      <td>-0.075481</td>\n",
       "    </tr>\n",
       "    <tr>\n",
       "      <th>Apr</th>\n",
       "      <td> 0.216484</td>\n",
       "      <td> 0.216300</td>\n",
       "      <td> 0.328143</td>\n",
       "      <td> 1.000000</td>\n",
       "      <td> 0.041331</td>\n",
       "      <td> 0.017182</td>\n",
       "      <td> 0.159124</td>\n",
       "      <td>-0.117359</td>\n",
       "      <td> 0.028134</td>\n",
       "      <td> 0.037973</td>\n",
       "      <td> 0.077483</td>\n",
       "      <td> 0.000211</td>\n",
       "    </tr>\n",
       "    <tr>\n",
       "      <th>May</th>\n",
       "      <td> 0.047153</td>\n",
       "      <td> 0.017000</td>\n",
       "      <td> 0.071455</td>\n",
       "      <td> 0.041331</td>\n",
       "      <td> 1.000000</td>\n",
       "      <td>-0.121644</td>\n",
       "      <td> 0.028159</td>\n",
       "      <td> 0.118944</td>\n",
       "      <td> 0.038196</td>\n",
       "      <td> 0.178622</td>\n",
       "      <td> 0.175155</td>\n",
       "      <td>-0.156485</td>\n",
       "    </tr>\n",
       "    <tr>\n",
       "      <th>Jun</th>\n",
       "      <td> 0.039691</td>\n",
       "      <td> 0.028284</td>\n",
       "      <td> 0.177538</td>\n",
       "      <td> 0.017182</td>\n",
       "      <td>-0.121644</td>\n",
       "      <td> 1.000000</td>\n",
       "      <td> 0.306204</td>\n",
       "      <td> 0.093280</td>\n",
       "      <td>-0.060803</td>\n",
       "      <td> 0.111169</td>\n",
       "      <td>-0.370548</td>\n",
       "      <td> 0.150160</td>\n",
       "    </tr>\n",
       "    <tr>\n",
       "      <th>Jul</th>\n",
       "      <td> 0.206568</td>\n",
       "      <td> 0.252928</td>\n",
       "      <td> 0.091281</td>\n",
       "      <td> 0.159124</td>\n",
       "      <td> 0.028159</td>\n",
       "      <td> 0.306204</td>\n",
       "      <td> 1.000000</td>\n",
       "      <td> 0.411425</td>\n",
       "      <td> 0.131770</td>\n",
       "      <td> 0.132230</td>\n",
       "      <td> 0.000195</td>\n",
       "      <td> 0.053797</td>\n",
       "    </tr>\n",
       "    <tr>\n",
       "      <th>Aug</th>\n",
       "      <td>-0.120758</td>\n",
       "      <td>-0.097432</td>\n",
       "      <td> 0.022202</td>\n",
       "      <td>-0.117359</td>\n",
       "      <td> 0.118944</td>\n",
       "      <td> 0.093280</td>\n",
       "      <td> 0.411425</td>\n",
       "      <td> 1.000000</td>\n",
       "      <td> 0.222137</td>\n",
       "      <td> 0.179547</td>\n",
       "      <td> 0.123741</td>\n",
       "      <td> 0.002483</td>\n",
       "    </tr>\n",
       "    <tr>\n",
       "      <th>Sep</th>\n",
       "      <td> 0.134955</td>\n",
       "      <td> 0.033740</td>\n",
       "      <td>-0.081379</td>\n",
       "      <td> 0.028134</td>\n",
       "      <td> 0.038196</td>\n",
       "      <td>-0.060803</td>\n",
       "      <td> 0.131770</td>\n",
       "      <td> 0.222137</td>\n",
       "      <td> 1.000000</td>\n",
       "      <td> 0.277824</td>\n",
       "      <td> 0.077645</td>\n",
       "      <td> 0.054884</td>\n",
       "    </tr>\n",
       "    <tr>\n",
       "      <th>Oct</th>\n",
       "      <td> 0.117936</td>\n",
       "      <td> 0.071301</td>\n",
       "      <td>-0.037189</td>\n",
       "      <td> 0.037973</td>\n",
       "      <td> 0.178622</td>\n",
       "      <td> 0.111169</td>\n",
       "      <td> 0.132230</td>\n",
       "      <td> 0.179547</td>\n",
       "      <td> 0.277824</td>\n",
       "      <td> 1.000000</td>\n",
       "      <td> 0.146520</td>\n",
       "      <td>-0.031469</td>\n",
       "    </tr>\n",
       "    <tr>\n",
       "      <th>Nov</th>\n",
       "      <td>-0.142560</td>\n",
       "      <td> 0.059700</td>\n",
       "      <td>-0.031521</td>\n",
       "      <td> 0.077483</td>\n",
       "      <td> 0.175155</td>\n",
       "      <td>-0.370548</td>\n",
       "      <td> 0.000195</td>\n",
       "      <td> 0.123741</td>\n",
       "      <td> 0.077645</td>\n",
       "      <td> 0.146520</td>\n",
       "      <td> 1.000000</td>\n",
       "      <td>-0.112312</td>\n",
       "    </tr>\n",
       "    <tr>\n",
       "      <th>Dec</th>\n",
       "      <td>-0.059667</td>\n",
       "      <td>-0.012276</td>\n",
       "      <td>-0.075481</td>\n",
       "      <td> 0.000211</td>\n",
       "      <td>-0.156485</td>\n",
       "      <td> 0.150160</td>\n",
       "      <td> 0.053797</td>\n",
       "      <td> 0.002483</td>\n",
       "      <td> 0.054884</td>\n",
       "      <td>-0.031469</td>\n",
       "      <td>-0.112312</td>\n",
       "      <td> 1.000000</td>\n",
       "    </tr>\n",
       "  </tbody>\n",
       "</table>\n",
       "</div>"
      ],
      "text/plain": [
       "          Jan       Feb       Mar       Apr       May       Jun       Jul  \\\n",
       "Jan  1.000000  0.384755  0.257302  0.216484  0.047153  0.039691  0.206568   \n",
       "Feb  0.384755  1.000000  0.379095  0.216300  0.017000  0.028284  0.252928   \n",
       "Mar  0.257302  0.379095  1.000000  0.328143  0.071455  0.177538  0.091281   \n",
       "Apr  0.216484  0.216300  0.328143  1.000000  0.041331  0.017182  0.159124   \n",
       "May  0.047153  0.017000  0.071455  0.041331  1.000000 -0.121644  0.028159   \n",
       "Jun  0.039691  0.028284  0.177538  0.017182 -0.121644  1.000000  0.306204   \n",
       "Jul  0.206568  0.252928  0.091281  0.159124  0.028159  0.306204  1.000000   \n",
       "Aug -0.120758 -0.097432  0.022202 -0.117359  0.118944  0.093280  0.411425   \n",
       "Sep  0.134955  0.033740 -0.081379  0.028134  0.038196 -0.060803  0.131770   \n",
       "Oct  0.117936  0.071301 -0.037189  0.037973  0.178622  0.111169  0.132230   \n",
       "Nov -0.142560  0.059700 -0.031521  0.077483  0.175155 -0.370548  0.000195   \n",
       "Dec -0.059667 -0.012276 -0.075481  0.000211 -0.156485  0.150160  0.053797   \n",
       "\n",
       "          Aug       Sep       Oct       Nov       Dec  \n",
       "Jan -0.120758  0.134955  0.117936 -0.142560 -0.059667  \n",
       "Feb -0.097432  0.033740  0.071301  0.059700 -0.012276  \n",
       "Mar  0.022202 -0.081379 -0.037189 -0.031521 -0.075481  \n",
       "Apr -0.117359  0.028134  0.037973  0.077483  0.000211  \n",
       "May  0.118944  0.038196  0.178622  0.175155 -0.156485  \n",
       "Jun  0.093280 -0.060803  0.111169 -0.370548  0.150160  \n",
       "Jul  0.411425  0.131770  0.132230  0.000195  0.053797  \n",
       "Aug  1.000000  0.222137  0.179547  0.123741  0.002483  \n",
       "Sep  0.222137  1.000000  0.277824  0.077645  0.054884  \n",
       "Oct  0.179547  0.277824  1.000000  0.146520 -0.031469  \n",
       "Nov  0.123741  0.077645  0.146520  1.000000 -0.112312  \n",
       "Dec  0.002483  0.054884 -0.031469 -0.112312  1.000000  "
      ]
     },
     "execution_count": 28,
     "metadata": {},
     "output_type": "execute_result"
    }
   ],
   "source": [
    "corr=mon_mean.corr()\n",
    "corr"
   ]
  },
  {
   "cell_type": "markdown",
   "metadata": {},
   "source": [
    "На табличку с цифрами смотреть не очень приятно, так что мы лучше нарисуем картинку."
   ]
  },
  {
   "cell_type": "code",
   "execution_count": 29,
   "metadata": {
    "collapsed": false
   },
   "outputs": [
    {
     "data": {
      "image/png": "[encoded data removed]",
      "text/plain": [
       "<matplotlib.figure.Figure at 0x10cda4610>"
      ]
     },
     "metadata": {},
     "output_type": "display_data"
    }
   ],
   "source": [
    "import matplotlib.pyplot as plt\n",
    "plt.imshow(corr,cmap='seismic',interpolation='none',vmin=-1,vmax=1)\n",
    "plt.colorbar()\n",
    "plt.xticks(range(len(corr)),corr.columns)\n",
    "plt.yticks(range(len(corr)),corr.columns);"
   ]
  },
  {
   "cell_type": "markdown",
   "metadata": {
    "collapsed": false
   },
   "source": [
    "Красные квадратики означают положительную корреляцию, синие — отрицательную. Как видим, исходное утверждение «если март тёплый, то апрель будет холодным», подтвердилось с точностью до наоборот — корреляция положительная. А вот между июнем и ноябрём — отрицательная. (Интересно, почему так?)\n",
    "\n",
    "Проиллюстрируем утверждение о корреляциях на графиках, которые называются точечными диаграммами или диаграммами рассеяния (scatter plot)."
   ]
  },
  {
   "cell_type": "code",
   "execution_count": 30,
   "metadata": {
    "collapsed": false
   },
   "outputs": [
    {
     "data": {
      "image/png": "[encoded data removed]",
      "text/plain": [
       "<matplotlib.figure.Figure at 0x10bbd5e50>"
      ]
     },
     "metadata": {},
     "output_type": "display_data"
    }
   ],
   "source": [
    "mon_mean.plot(kind='scatter',x='Mar',y='Apr');"
   ]
  },
  {
   "cell_type": "markdown",
   "metadata": {},
   "source": [
    "Каждая точка на графике — это один год, по горизонтальной оси отмечена средняя температура за март, а по вертикальной — за апрель. Видно, что график немного вытянут вдоль диагонали, которая идёт «из левого нижнего угла в правый верхний» — это и соответствует наличию положительной корреляции.\n",
    "\n",
    "А вот аналогичный график для пары июнь — ноябрь:"
   ]
  },
  {
   "cell_type": "code",
   "execution_count": 31,
   "metadata": {
    "collapsed": false
   },
   "outputs": [
    {
     "data": {
      "image/png": "[encoded data removed]",
      "text/plain": [
       "<matplotlib.figure.Figure at 0x10a85bf10>"
      ]
     },
     "metadata": {},
     "output_type": "display_data"
    }
   ],
   "source": [
    "mon_mean.plot(kind='scatter',x='Jun',y='Nov');"
   ]
  },
  {
   "cell_type": "markdown",
   "metadata": {},
   "source": [
    "### Постскриптум\n",
    "— Неправда твоя! Данные ясно показывают, что если март тёплый, то и апрель тёплый.\n",
    "\n",
    "— Не верю что-то.\n",
    "\n",
    "— У меня статистика за 50 лет.\n",
    "\n",
    "— А у меня личный опыт! Вот, помню, несколько лет назад ноябрь был тёплый, а декабрь холодный…\n",
    "\n",
    "— Ну, у ноября с декабрём как раз отрицательная корреляция.\n",
    "\n",
    "— Вот! Я же говорил! Я был прав!"
   ]
  },
  {
   "cell_type": "markdown",
   "metadata": {},
   "source": [
    "### Упражнения\n",
    "1. На сколько градусов растёт в среднем температура за один год? (Посчитать регрессию с помощью `statsmodels`.)\n",
    "2. На сколько градусов вырастет в среднем температура в апреле, если она выросла на 1 градус в марте? \n",
    "3. А на сколько она упадёт в ноябре, если она выросла на один градус в декабре? \n",
    "4. Значимы ли коэффициенты регрессий в этих задачах? А если учесть [поправку на множественные сравнения](https://ru.wikipedia.org/wiki/Коррекция_на_множественное_тестирование)?\n",
    "5. Известна поговорка «после дождичка в четверг» (о маловероятном событии). Проверить с помощью теста Стьюдента, отличается ли статистически значимо уровень осадков (`PRECIP`), выпадающих по четвергам, от уровня осадков в остальные дни недели? (Подсказка: `dat.index.weekday`.)"
   ]
  },
  {
   "cell_type": "code",
   "execution_count": null,
   "metadata": {
    "collapsed": true
   },
   "outputs": [],
   "source": []
  }
 ],
 "metadata": {
  "kernelspec": {
   "display_name": "Python 2",
   "language": "python",
   "name": "python2"
  },
  "language_info": {
   "codemirror_mode": {
    "name": "ipython",
    "version": 2
   },
   "file_extension": ".py",
   "mimetype": "text/x-python",
   "name": "python",
   "nbconvert_exporter": "python",
   "pygments_lexer": "ipython2",
   "version": "2.7.11"
  }
 },
 "nbformat": 4,
 "nbformat_minor": 0
}
