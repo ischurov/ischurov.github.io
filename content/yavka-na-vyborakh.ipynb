{
 "metadata": {
  "name": "",
  "signature": "sha256:26070f2ea46289a3066dd94f749accabeef996541475b578a04c46cd31e19725"
 },
 "nbformat": 3,
 "nbformat_minor": 0,
 "worksheets": [
  {
   "cells": [
    {
     "cell_type": "markdown",
     "metadata": {},
     "source": [
      "## \u041f\u043e\u0441\u0442\u0430\u043d\u043e\u0432\u043a\u0430 \u0437\u0430\u0434\u0430\u0447\u0438\n",
      "\u041f\u043e\u0434\u0432\u043e\u0434\u044f\u0442\u0441\u044f \u0438\u0442\u043e\u0433\u0438 \u043f\u043e \u0432\u044b\u0431\u043e\u0440\u0430\u043c \u0432 \u041c\u043e\u0441\u043a\u043e\u0432\u0441\u043a\u0443\u044e \u0433\u043e\u0440\u043e\u0434\u0441\u043a\u0443\u044e \u0434\u0443\u043c\u0443. \u0415\u0441\u0442\u044c \u0434\u0430\u043d\u043d\u044b\u0435 \u043f\u043e \u0432\u044b\u0431\u043e\u0440\u0430\u043c \u0438\u0437 \u0441\u0438\u0441\u0442\u0435\u043c\u044b \u0413\u0410\u0421 \u00ab\u0412\u044b\u0431\u043e\u0440\u044b\u00bb, \u043f\u0443\u0431\u043b\u0438\u043a\u0443\u044e\u0449\u0438\u0435\u0441\u044f \u0431\u043e\u043b\u0435\u0435 \u0438\u043b\u0438 \u043c\u0435\u043d\u0435\u0435 \u0432 \u0440\u0435\u0430\u043b\u044c\u043d\u043e\u043c \u0432\u0440\u0435\u043c\u0435\u043d\u0438. \u041d\u043e \u043e\u043d\u0438 \u0442\u0430\u043c \u0440\u0430\u0437\u0431\u0438\u0442\u044b \u043f\u043e \u043e\u043a\u0440\u0443\u0433\u0430\u043c (\u0447\u0442\u043e \u043b\u043e\u0433\u0438\u0447\u043d\u043e). \u0414\u043e\u043f\u0443\u0441\u0442\u0438\u043c, \u043d\u0430\u0441 \u0438\u043d\u0442\u0435\u0440\u0435\u0441\u0443\u0435\u0442 \u044f\u0432\u043a\u0430 \u00ab\u0432 \u0446\u0435\u043b\u043e\u043c \u043f\u043e \u041c\u043e\u0441\u043a\u0432\u0435\u00bb. \u041f\u043e \u043f\u0440\u0430\u0432\u0434\u0435 \u0433\u043e\u0432\u043e\u0440\u044f, \u043e\u043d\u0430 \u0438\u043d\u0442\u0435\u0440\u0435\u0441\u0443\u0435\u0442 \u043f\u0440\u0435\u0434\u0441\u0435\u0434\u0430\u0442\u0435\u043b\u044f \u0442\u0435\u0440\u0440\u0438\u0442\u043e\u0440\u0438\u0430\u043b\u044c\u043d\u043e\u0439 \u0438\u0437\u0431\u0438\u0440\u0430\u0442\u0435\u043b\u044c\u043d\u043e\u0439 \u043a\u043e\u043c\u0438\u0441\u0441\u0438\u0438, \u0447\u043b\u0435\u043d\u043e\u043c \u043a\u043e\u0442\u043e\u0440\u043e\u0439 \u044f \u044f\u0432\u043b\u044f\u044e\u0441\u044c \u2014 \u043e\u043d \u0442\u043e\u043b\u044c\u043a\u043e \u0447\u0442\u043e \u0441\u043f\u0440\u043e\u0441\u0438\u043b \u0443 \u043c\u0435\u043d\u044f, \u043d\u0435 \u043e\u043f\u0443\u0431\u043b\u0438\u043a\u043e\u0432\u0430\u043d\u0430 \u043b\u0438 \u044d\u0442\u0430 \u0438\u043d\u0444\u043e\u0440\u043c\u0430\u0446\u0438\u044f \u0433\u0434\u0435. \u042f \u043d\u0435 \u043d\u0430\u0448\u0451\u043b \u0432 \u043e\u0442\u043a\u0440\u044b\u0442\u044b\u0445 \u0438\u0441\u0442\u043e\u0447\u043d\u0438\u043a\u0430\u0445 \u0438 \u043f\u043e\u044d\u0442\u043e\u043c\u0443 \u0440\u0435\u0448\u0438\u043b \u0431\u044b\u0441\u0442\u0440\u043e \u043d\u0430\u043f\u0438\u0441\u0430\u0442\u044c \u0441\u043a\u0440\u0438\u043f\u0442, \u043a\u043e\u0442\u043e\u0440\u044b\u0439 \u0435\u0451 \u0441\u0447\u0438\u0442\u0430\u0435\u0442. \u0418\u0442\u0430\u043a."
     ]
    },
    {
     "cell_type": "markdown",
     "metadata": {},
     "source": [
      "## \u0428\u0430\u0433 1. \u041f\u043e\u043b\u0443\u0447\u0430\u0435\u043c \u0441\u043f\u0438\u0441\u043e\u043a \u0441\u0442\u0440\u0430\u043d\u0438\u0446 \u0441\u043e \u0441\u0441\u044b\u043b\u043a\u0430\u043c\u0438 \u043d\u0430 \u0440\u0435\u0437\u0443\u043b\u044c\u0442\u0430\u0442\u044b\n",
      "\u042d\u0442\u043e \u043f\u0440\u0438\u0434\u0451\u0442\u0441\u044f \u0441\u0434\u0435\u043b\u0430\u0442\u044c \u0447\u0430\u0441\u0442\u0438\u0447\u043d\u043e \u0440\u0443\u0447\u043a\u0430\u043c\u0438. \u042f \u0437\u0430\u0448\u0451\u043b \u043d\u0430 [\u044d\u0442\u0443 \u0441\u0442\u0440\u0430\u043d\u0438\u0446\u0443](http://www.moscow_city.vybory.izbirkom.ru/region/moscow_city?action=show&root_a=772003003&vrn=27720001539308&region=77&global=null&type=0&prver=0&pronetvd=null) \u0438 \u043d\u0430\u0448\u0451\u043b \u0432 \u0438\u0441\u0445\u043e\u0434\u043d\u043e\u043c \u043a\u043e\u0434\u0435 \u0441\u0442\u0440\u043e\u0447\u043a\u0443, \u043e\u0442\u0432\u0435\u0447\u0430\u044e\u0449\u0443\u044e \u0437\u0430 \u0432\u044b\u043f\u0430\u0434\u0430\u044e\u0449\u0438\u0439 \u0441\u043f\u0438\u0441\u043e\u043a \u00ab\u041d\u0438\u0436\u0435\u0441\u0442\u043e\u044f\u0449\u0438\u0435 \u0438\u0437\u0431\u0438\u0440\u0430\u0442\u0435\u043b\u044c\u043d\u044b\u0435 \u043a\u043e\u043c\u0438\u0441\u0441\u0438\u0438\u00bb."
     ]
    },
    {
     "cell_type": "code",
     "collapsed": false,
     "input": [
      "options_str=\"\"\"<option value=\"http://www.moscow_city.vybory.izbirkom.ru/region/moscow_city?action=show&amp;root=772000001&amp;tvd=27720001539819&amp;vrn=27720001539308&amp;prver=0&amp;pronetvd=null&amp;region=77&amp;sub_region=77&amp;type=0&amp;vibid=27720001539819\">1 \u2116 1</option>\n",
      "<option value=\"http://www.moscow_city.vybory.izbirkom.ru/region/moscow_city?action=show&amp;root=772000136&amp;tvd=27720001539954&amp;vrn=27720001539308&amp;prver=0&amp;pronetvd=null&amp;region=77&amp;sub_region=77&amp;type=0&amp;vibid=27720001539954\">2 \u2116 2</option>\n",
      "<option value=\"http://www.moscow_city.vybory.izbirkom.ru/region/moscow_city?action=show&amp;root=772000226&amp;tvd=27720001540044&amp;vrn=27720001539308&amp;prver=0&amp;pronetvd=null&amp;region=77&amp;sub_region=77&amp;type=0&amp;vibid=27720001540044\">3 \u2116 3</option>\n",
      "<option value=\"http://www.moscow_city.vybory.izbirkom.ru/region/moscow_city?action=show&amp;root=772000321&amp;tvd=27720001540139&amp;vrn=27720001539308&amp;prver=0&amp;pronetvd=null&amp;region=77&amp;sub_region=77&amp;type=0&amp;vibid=27720001540139\">4 \u2116 4</option>\n",
      "<option value=\"http://www.moscow_city.vybory.izbirkom.ru/region/moscow_city?action=show&amp;root=772000408&amp;tvd=27720001540226&amp;vrn=27720001539308&amp;prver=0&amp;pronetvd=null&amp;region=77&amp;sub_region=77&amp;type=0&amp;vibid=27720001540226\">5 \u2116 5</option>\n",
      "<option value=\"http://www.moscow_city.vybory.izbirkom.ru/region/moscow_city?action=show&amp;root=772000508&amp;tvd=27720001540326&amp;vrn=27720001539308&amp;prver=0&amp;pronetvd=null&amp;region=77&amp;sub_region=77&amp;type=0&amp;vibid=27720001540326\">6 \u2116 6</option>\n",
      "<option value=\"http://www.moscow_city.vybory.izbirkom.ru/region/moscow_city?action=show&amp;root=772000586&amp;tvd=27720001540404&amp;vrn=27720001539308&amp;prver=0&amp;pronetvd=null&amp;region=77&amp;sub_region=77&amp;type=0&amp;vibid=27720001540404\">7 \u2116 7</option>\n",
      "<option value=\"http://www.moscow_city.vybory.izbirkom.ru/region/moscow_city?action=show&amp;root=772000664&amp;tvd=27720001540482&amp;vrn=27720001539308&amp;prver=0&amp;pronetvd=null&amp;region=77&amp;sub_region=77&amp;type=0&amp;vibid=27720001540482\">8 \u2116 8</option>\n",
      "<option value=\"http://www.moscow_city.vybory.izbirkom.ru/region/moscow_city?action=show&amp;root=772000753&amp;tvd=27720001540571&amp;vrn=27720001539308&amp;prver=0&amp;pronetvd=null&amp;region=77&amp;sub_region=77&amp;type=0&amp;vibid=27720001540571\">9 \u2116 9</option>\n",
      "<option value=\"http://www.moscow_city.vybory.izbirkom.ru/region/moscow_city?action=show&amp;root=772000842&amp;tvd=27720001540660&amp;vrn=27720001539308&amp;prver=0&amp;pronetvd=null&amp;region=77&amp;sub_region=77&amp;type=0&amp;vibid=27720001540660\">10 \u2116 10</option>\n",
      "<option value=\"http://www.moscow_city.vybory.izbirkom.ru/region/moscow_city?action=show&amp;root=772000923&amp;tvd=27720001540741&amp;vrn=27720001539308&amp;prver=0&amp;pronetvd=null&amp;region=77&amp;sub_region=77&amp;type=0&amp;vibid=27720001540741\">11 \u2116 11</option>\n",
      "<option value=\"http://www.moscow_city.vybory.izbirkom.ru/region/moscow_city?action=show&amp;root=772001003&amp;tvd=27720001540821&amp;vrn=27720001539308&amp;prver=0&amp;pronetvd=null&amp;region=77&amp;sub_region=77&amp;type=0&amp;vibid=27720001540821\">12 \u2116 12</option>\n",
      "<option value=\"http://www.moscow_city.vybory.izbirkom.ru/region/moscow_city?action=show&amp;root=772001073&amp;tvd=27720001540891&amp;vrn=27720001539308&amp;prver=0&amp;pronetvd=null&amp;region=77&amp;sub_region=77&amp;type=0&amp;vibid=27720001540891\">13 \u2116 13</option>\n",
      "<option value=\"http://www.moscow_city.vybory.izbirkom.ru/region/moscow_city?action=show&amp;root=772001149&amp;tvd=27720001540967&amp;vrn=27720001539308&amp;prver=0&amp;pronetvd=null&amp;region=77&amp;sub_region=77&amp;type=0&amp;vibid=27720001540967\">14 \u2116 14</option>\n",
      "<option value=\"http://www.moscow_city.vybory.izbirkom.ru/region/moscow_city?action=show&amp;root=772001245&amp;tvd=27720001541063&amp;vrn=27720001539308&amp;prver=0&amp;pronetvd=null&amp;region=77&amp;sub_region=77&amp;type=0&amp;vibid=27720001541063\">15 \u2116 15</option>\n",
      "<option value=\"http://www.moscow_city.vybory.izbirkom.ru/region/moscow_city?action=show&amp;root=772001323&amp;tvd=27720001541141&amp;vrn=27720001539308&amp;prver=0&amp;pronetvd=null&amp;region=77&amp;sub_region=77&amp;type=0&amp;vibid=27720001541141\">16 \u2116 16</option>\n",
      "<option value=\"http://www.moscow_city.vybory.izbirkom.ru/region/moscow_city?action=show&amp;root=772001405&amp;tvd=27720001541223&amp;vrn=27720001539308&amp;prver=0&amp;pronetvd=null&amp;region=77&amp;sub_region=77&amp;type=0&amp;vibid=27720001541223\">17 \u2116 17</option>\n",
      "<option value=\"http://www.moscow_city.vybory.izbirkom.ru/region/moscow_city?action=show&amp;root=772001479&amp;tvd=27720001541297&amp;vrn=27720001539308&amp;prver=0&amp;pronetvd=null&amp;region=77&amp;sub_region=77&amp;type=0&amp;vibid=27720001541297\">18 \u2116 18</option>\n",
      "<option value=\"http://www.moscow_city.vybory.izbirkom.ru/region/moscow_city?action=show&amp;root=772001567&amp;tvd=27720001541385&amp;vrn=27720001539308&amp;prver=0&amp;pronetvd=null&amp;region=77&amp;sub_region=77&amp;type=0&amp;vibid=27720001541385\">19 \u2116 19</option>\n",
      "<option value=\"http://www.moscow_city.vybory.izbirkom.ru/region/moscow_city?action=show&amp;root=772001647&amp;tvd=27720001541465&amp;vrn=27720001539308&amp;prver=0&amp;pronetvd=null&amp;region=77&amp;sub_region=77&amp;type=0&amp;vibid=27720001541465\">20 \u2116 20</option>\n",
      "<option value=\"http://www.moscow_city.vybory.izbirkom.ru/region/moscow_city?action=show&amp;root=772001725&amp;tvd=27720001541543&amp;vrn=27720001539308&amp;prver=0&amp;pronetvd=null&amp;region=77&amp;sub_region=77&amp;type=0&amp;vibid=27720001541543\">21 \u2116 21</option>\n",
      "<option value=\"http://www.moscow_city.vybory.izbirkom.ru/region/moscow_city?action=show&amp;root=772001802&amp;tvd=27720001541620&amp;vrn=27720001539308&amp;prver=0&amp;pronetvd=null&amp;region=77&amp;sub_region=77&amp;type=0&amp;vibid=27720001541620\">22 \u2116 22</option>\n",
      "<option value=\"http://www.moscow_city.vybory.izbirkom.ru/region/moscow_city?action=show&amp;root=772001878&amp;tvd=27720001541696&amp;vrn=27720001539308&amp;prver=0&amp;pronetvd=null&amp;region=77&amp;sub_region=77&amp;type=0&amp;vibid=27720001541696\">23 \u2116 23</option>\n",
      "<option value=\"http://www.moscow_city.vybory.izbirkom.ru/region/moscow_city?action=show&amp;root=772001952&amp;tvd=27720001541770&amp;vrn=27720001539308&amp;prver=0&amp;pronetvd=null&amp;region=77&amp;sub_region=77&amp;type=0&amp;vibid=27720001541770\">24 \u2116 24</option>\n",
      "<option value=\"http://www.moscow_city.vybory.izbirkom.ru/region/moscow_city?action=show&amp;root=772002055&amp;tvd=27720001541873&amp;vrn=27720001539308&amp;prver=0&amp;pronetvd=null&amp;region=77&amp;sub_region=77&amp;type=0&amp;vibid=27720001541873\">25 \u2116 25</option>\n",
      "<option value=\"http://www.moscow_city.vybory.izbirkom.ru/region/moscow_city?action=show&amp;root=772002124&amp;tvd=27720001541942&amp;vrn=27720001539308&amp;prver=0&amp;pronetvd=null&amp;region=77&amp;sub_region=77&amp;type=0&amp;vibid=27720001541942\">26 \u2116 26</option>\n",
      "<option value=\"http://www.moscow_city.vybory.izbirkom.ru/region/moscow_city?action=show&amp;root=772002191&amp;tvd=27720001542009&amp;vrn=27720001539308&amp;prver=0&amp;pronetvd=null&amp;region=77&amp;sub_region=77&amp;type=0&amp;vibid=27720001542009\">27 \u2116 27</option>\n",
      "<option value=\"http://www.moscow_city.vybory.izbirkom.ru/region/moscow_city?action=show&amp;root=772002258&amp;tvd=27720001542076&amp;vrn=27720001539308&amp;prver=0&amp;pronetvd=null&amp;region=77&amp;sub_region=77&amp;type=0&amp;vibid=27720001542076\">28 \u2116 28</option>\n",
      "<option value=\"http://www.moscow_city.vybory.izbirkom.ru/region/moscow_city?action=show&amp;root=772002339&amp;tvd=27720001542157&amp;vrn=27720001539308&amp;prver=0&amp;pronetvd=null&amp;region=77&amp;sub_region=77&amp;type=0&amp;vibid=27720001542157\">29 \u2116 29</option>\n",
      "<option value=\"http://www.moscow_city.vybory.izbirkom.ru/region/moscow_city?action=show&amp;root=772002411&amp;tvd=27720001542229&amp;vrn=27720001539308&amp;prver=0&amp;pronetvd=null&amp;region=77&amp;sub_region=77&amp;type=0&amp;vibid=27720001542229\">30 \u2116 30</option>\n",
      "<option value=\"http://www.moscow_city.vybory.izbirkom.ru/region/moscow_city?action=show&amp;root=772002486&amp;tvd=27720001542304&amp;vrn=27720001539308&amp;prver=0&amp;pronetvd=null&amp;region=77&amp;sub_region=77&amp;type=0&amp;vibid=27720001542304\">31 \u2116 31</option>\n",
      "<option value=\"http://www.moscow_city.vybory.izbirkom.ru/region/moscow_city?action=show&amp;root=772002559&amp;tvd=27720001542377&amp;vrn=27720001539308&amp;prver=0&amp;pronetvd=null&amp;region=77&amp;sub_region=77&amp;type=0&amp;vibid=27720001542377\">32 \u2116 32</option>\n",
      "<option value=\"http://www.moscow_city.vybory.izbirkom.ru/region/moscow_city?action=show&amp;root=772002654&amp;tvd=27720001542472&amp;vrn=27720001539308&amp;prver=0&amp;pronetvd=null&amp;region=77&amp;sub_region=77&amp;type=0&amp;vibid=27720001542472\">33 \u2116 33</option>\n",
      "<option value=\"http://www.moscow_city.vybory.izbirkom.ru/region/moscow_city?action=show&amp;root=772002734&amp;tvd=27720001542552&amp;vrn=27720001539308&amp;prver=0&amp;pronetvd=null&amp;region=77&amp;sub_region=77&amp;type=0&amp;vibid=27720001542552\">34 \u2116 34</option>\n",
      "<option value=\"http://www.moscow_city.vybory.izbirkom.ru/region/moscow_city?action=show&amp;root=772002830&amp;tvd=27720001542648&amp;vrn=27720001539308&amp;prver=0&amp;pronetvd=null&amp;region=77&amp;sub_region=77&amp;type=0&amp;vibid=27720001542648\">35 \u2116 35</option>\n",
      "<option value=\"http://www.moscow_city.vybory.izbirkom.ru/region/moscow_city?action=show&amp;root=772002922&amp;tvd=27720001542740&amp;vrn=27720001539308&amp;prver=0&amp;pronetvd=null&amp;region=77&amp;sub_region=77&amp;type=0&amp;vibid=27720001542740\">36 \u2116 36</option>\n",
      "<option value=\"http://www.moscow_city.vybory.izbirkom.ru/region/moscow_city?action=show&amp;root=772003003&amp;tvd=27720001542821&amp;vrn=27720001539308&amp;prver=0&amp;pronetvd=null&amp;region=77&amp;sub_region=77&amp;type=0&amp;vibid=27720001542821\">37 \u2116 37</option>\n",
      "<option value=\"http://www.moscow_city.vybory.izbirkom.ru/region/moscow_city?action=show&amp;root=772003101&amp;tvd=27720001542919&amp;vrn=27720001539308&amp;prver=0&amp;pronetvd=null&amp;region=77&amp;sub_region=77&amp;type=0&amp;vibid=27720001542919\">38 \u2116 38</option>\n",
      "<option value=\"http://www.moscow_city.vybory.izbirkom.ru/region/moscow_city?action=show&amp;root=772003203&amp;tvd=27720001543021&amp;vrn=27720001539308&amp;prver=0&amp;pronetvd=null&amp;region=77&amp;sub_region=77&amp;type=0&amp;vibid=27720001543021\">39 \u2116 39</option>\n",
      "<option value=\"http://www.moscow_city.vybory.izbirkom.ru/region/moscow_city?action=show&amp;root=772003295&amp;tvd=27720001543113&amp;vrn=27720001539308&amp;prver=0&amp;pronetvd=null&amp;region=77&amp;sub_region=77&amp;type=0&amp;vibid=27720001543113\">40 \u2116 40</option>\n",
      "<option value=\"http://www.moscow_city.vybory.izbirkom.ru/region/moscow_city?action=show&amp;root=772003378&amp;tvd=27720001543196&amp;vrn=27720001539308&amp;prver=0&amp;pronetvd=null&amp;region=77&amp;sub_region=77&amp;type=0&amp;vibid=27720001543196\">41 \u2116 41</option>\n",
      "<option value=\"http://www.moscow_city.vybory.izbirkom.ru/region/moscow_city?action=show&amp;root=772003457&amp;tvd=27720001543275&amp;vrn=27720001539308&amp;prver=0&amp;pronetvd=null&amp;region=77&amp;sub_region=77&amp;type=0&amp;vibid=27720001543275\">42 \u2116 42</option>\n",
      "<option value=\"http://www.moscow_city.vybory.izbirkom.ru/region/moscow_city?action=show&amp;root=772003543&amp;tvd=27720001543361&amp;vrn=27720001539308&amp;prver=0&amp;pronetvd=null&amp;region=77&amp;sub_region=77&amp;type=0&amp;vibid=27720001543361\">43 \u2116 43</option>\n",
      "<option value=\"http://www.moscow_city.vybory.izbirkom.ru/region/moscow_city?action=show&amp;root=772003621&amp;tvd=27720001543439&amp;vrn=27720001539308&amp;prver=0&amp;pronetvd=null&amp;region=77&amp;sub_region=77&amp;type=0&amp;vibid=27720001543439\">44 \u2116 44</option>\n",
      "<option value=\"http://www.moscow_city.vybory.izbirkom.ru/region/moscow_city?action=show&amp;root=772003707&amp;tvd=27720001543525&amp;vrn=27720001539308&amp;prver=0&amp;pronetvd=null&amp;region=77&amp;sub_region=77&amp;type=0&amp;vibid=27720001543525\">45 \u2116 45</option>\n",
      "\"\"\""
     ],
     "language": "python",
     "metadata": {},
     "outputs": [],
     "prompt_number": 6
    },
    {
     "cell_type": "markdown",
     "metadata": {},
     "source": [
      "## \u0428\u0430\u0433 2. \u041e\u0431\u0440\u0430\u0431\u0430\u0442\u044b\u0432\u0430\u0435\u043c \u043e\u0434\u0438\u043d \u043e\u043a\u0440\u0443\u0433\n",
      "\u041f\u0440\u0435\u0436\u0434\u0435, \u0447\u0435\u043c \u043f\u0438\u0441\u0430\u0442\u044c \u043a\u043e\u0434, \u043e\u0431\u0440\u0430\u0431\u0430\u0442\u044b\u0432\u0430\u044e\u0449\u0438\u0439 \u0432\u0435\u0441\u044c \u0433\u043e\u0440\u043e\u0434, \u043d\u0430\u043f\u0438\u0448\u0435\u043c \u0435\u0433\u043e \u0434\u043b\u044f \u043e\u0434\u043d\u043e\u0433\u043e \u043e\u043a\u0440\u0443\u0433\u0430. \u0414\u043b\u044f \u043d\u0430\u0447\u0430\u043b\u0430 \u043d\u0430\u043c \u043d\u0443\u0436\u043d\u043e \u043f\u043e\u043b\u0443\u0447\u0438\u0442\u044c \u043f\u043e\u043b\u0443\u0447\u0438\u0442\u044c \u0438\u0437 \u0441\u0442\u0440\u043e\u0447\u043a\u0438 \u0432\u044b\u0448\u0435 \u0430\u0434\u0440\u0435\u0441\u0430 \u0441\u0442\u0440\u0430\u043d\u0438\u0446 \u043f\u043e \u043e\u0442\u0434\u0435\u043b\u044c\u043d\u044b\u043c \u043e\u043a\u0440\u0443\u0433\u0430\u043c. \u0427\u0442\u043e\u0431\u044b \u0440\u0430\u0441\u043f\u0430\u0440\u0441\u0438\u0442\u044c \u0441\u0442\u0440\u043e\u0447\u043a\u0443 \u0432\u044b\u0448\u0435, \u043c\u044b \u0438\u0441\u043f\u043e\u043b\u044c\u0437\u0443\u0435\u043c `BeautifulSoup`."
     ]
    },
    {
     "cell_type": "code",
     "collapsed": false,
     "input": [
      "from bs4 import BeautifulSoup\n",
      "import urllib2"
     ],
     "language": "python",
     "metadata": {},
     "outputs": [],
     "prompt_number": 82
    },
    {
     "cell_type": "code",
     "collapsed": false,
     "input": [
      "options=BeautifulSoup(options_str)"
     ],
     "language": "python",
     "metadata": {},
     "outputs": [],
     "prompt_number": 83
    },
    {
     "cell_type": "markdown",
     "metadata": {},
     "source": [
      "\u0412\u043e\u0437\u044c\u043c\u0451\u043c \u043f\u0435\u0440\u0432\u044b\u0439 \u044d\u043b\u0435\u043c\u0435\u043d\u0442 \u0442\u0438\u043f\u0430 `option` \u0438 \u0432\u044b\u0442\u0430\u0449\u0438\u043c \u0438\u0437 \u043d\u0435\u0433\u043e \u043d\u0430\u0437\u0432\u0430\u043d\u0438\u0435 \u041e\u0418\u041a (\u043e\u043a\u0440\u0443\u0436\u043d\u043e\u0439 \u043a\u043e\u043c\u0438\u0441\u0441\u0438\u0438) \u0438 url \u0441\u0442\u0440\u0430\u043d\u0438\u0446\u044b, \u043e\u0442\u043d\u043e\u0441\u044f\u0449\u0435\u0439\u0441\u044f \u043a \u044d\u0442\u043e\u0439 \u041e\u0418\u041a."
     ]
    },
    {
     "cell_type": "code",
     "collapsed": false,
     "input": [
      "option=options.find(\"option\")\n",
      "url=option.get('value')\n",
      "OIK=option.string\n",
      "print \"url = %s\\nOIK = %s\" % (url, OIK)"
     ],
     "language": "python",
     "metadata": {},
     "outputs": [
      {
       "output_type": "stream",
       "stream": "stdout",
       "text": [
        "url = http://www.moscow_city.vybory.izbirkom.ru/region/moscow_city?action=show&root=772000001&tvd=27720001539819&vrn=27720001539308&prver=0&pronetvd=null&region=77&sub_region=77&type=0&vibid=27720001539819\n",
        "OIK = 1 \u2116 1\n"
       ]
      }
     ],
     "prompt_number": 119
    },
    {
     "cell_type": "markdown",
     "metadata": {},
     "source": [
      "\u042d\u0442\u0430 \u0441\u0442\u0440\u0430\u043d\u0438\u0446\u0430 \u043d\u0435 \u0441\u043e\u0434\u0435\u0440\u0436\u0438\u0442 \u043d\u0443\u0436\u043d\u043e\u0439 \u0442\u0430\u0431\u043b\u0438\u0446\u044b, \u043d\u043e \u0441\u043e\u0434\u0435\u0440\u0436\u0438\u0442 \u0441\u0441\u044b\u043b\u043a\u0443 \u043d\u0430 \u043d\u0435\u0451. \u042d\u0442\u043e \u043f\u0440\u0435\u0434\u043f\u043e\u0441\u043b\u0435\u0434\u043d\u044f\u044f \u0441\u0441\u044b\u043b\u043a\u0430 \u043d\u0430 \u0441\u0442\u0440\u0430\u043d\u0438\u0446\u0435."
     ]
    },
    {
     "cell_type": "code",
     "collapsed": false,
     "input": [
      "page=urllib2.urlopen(url)\n",
      "data=BeautifulSoup(page.read())\n",
      "a=data.findAll(\"a\")[-2]\n",
      "url_res=a.get('href')\n",
      "res_page=urllib2.urlopen(url_res)\n",
      "bigtable=BeautifulSoup(res_page.read())"
     ],
     "language": "python",
     "metadata": {},
     "outputs": [],
     "prompt_number": 87
    },
    {
     "cell_type": "markdown",
     "metadata": {},
     "source": [
      "\u0422\u0435\u043f\u0435\u0440\u044c \u043d\u0430\u0439\u0434\u0451\u043c \u043d\u0443\u0436\u043d\u0443\u044e \u0442\u0430\u0431\u043b\u0438\u0447\u043a\u0443 (\u0442\u043e\u0447\u043d\u0435\u0435, \u043d\u0443\u0436\u043d\u044b\u0439 \u0442\u0435\u0433 `<table>`) \u043d\u0430 \u044d\u0442\u043e\u0439 \u0441\u0442\u0440\u0430\u043d\u0438\u0446\u0435. \u0414\u0435\u043b\u0430\u0435\u0442\u0441\u044f \u0432\u043d\u0438\u043c\u0430\u0442\u0435\u043b\u044c\u043d\u044b\u043c \u0432\u0433\u043b\u044f\u0434\u044b\u0432\u0430\u043d\u0438\u0435\u043c \u0432 \u0438\u0441\u0445\u043e\u0434\u043d\u0438\u043a \u0438\u043b\u0438 \u043c\u0435\u0442\u043e\u0434\u043e\u043c \u043d\u0430\u0443\u0447\u043d\u043e\u0433\u043e \u0442\u044b\u043a\u0430."
     ]
    },
    {
     "cell_type": "code",
     "collapsed": false,
     "input": [
      "rows=bigtable.findAll('table')[2].findAll('table')[4].findAll('tr')"
     ],
     "language": "python",
     "metadata": {},
     "outputs": [],
     "prompt_number": 96
    },
    {
     "cell_type": "code",
     "collapsed": false,
     "input": [
      "rows[0]"
     ],
     "language": "python",
     "metadata": {},
     "outputs": [
      {
       "metadata": {},
       "output_type": "pyout",
       "prompt_number": 108,
       "text": [
        "<tr bgcolor=\"#CCCCCC\">\n",
        "<td style=\"color:black\">1</td>\n",
        "<td align=\"left\" style=\"color:black\">\u0427\u0438\u0441\u043b\u043e \u0438\u0437\u0431\u0438\u0440\u0430\u0442\u0435\u043b\u0435\u0439, \u0432\u043d\u0435\u0441\u0435\u043d\u043d\u044b\u0445 \u0432 \u0441\u043f\u0438\u0441\u043e\u043a</td>\n",
        "<td align=\"right\" style=\"color:black\"><b>43891</b><br/>\n",
        "</td>\n",
        "</tr>"
       ]
      }
     ],
     "prompt_number": 108
    },
    {
     "cell_type": "markdown",
     "metadata": {},
     "source": [
      "\u041d\u0443\u0436\u043d\u0430\u044f \u043d\u0430\u043c \u0438\u043d\u0444\u043e\u0440\u043c\u0430\u0446\u0438\u044f \u0432 \u0442\u0440\u0435\u0442\u044c\u0435\u0439 \u044f\u0447\u0435\u0439\u043a\u0435, \u0432 \u0442\u0435\u0433\u0435 `<b>`. \u0418 \u043c\u044b \u0445\u043e\u0442\u0438\u043c \u043f\u043e\u043b\u0443\u0447\u0438\u0442\u044c \u0447\u0438\u0441\u043b\u043e, \u0430 \u043d\u0435 \u0441\u0442\u0440\u043e\u0447\u043a\u0443. \u041d\u0430\u043c \u043f\u0440\u0438\u0434\u0451\u0442\u0441\u044f \u0437\u0430\u043f\u0440\u0430\u0448\u0438\u0432\u0430\u0442\u044c \u044d\u0442\u0443 \u0438\u043d\u0444\u043e\u0440\u043c\u0430\u0446\u0438\u044e \u0434\u043b\u044f \u0440\u0430\u0437\u043d\u044b\u0445 \u0441\u0442\u0440\u043e\u0447\u0435\u043a, \u043f\u043e\u044d\u0442\u043e\u043c\u0443 \u043e\u043f\u0440\u0435\u0434\u0435\u043b\u0438\u043c \u0444\u0443\u043d\u043a\u0446\u0438\u044e "
     ]
    },
    {
     "cell_type": "code",
     "collapsed": false,
     "input": [
      "def getdata(i):\n",
      "    return int(rows[i].findAll('td')[2].find('b').string)"
     ],
     "language": "python",
     "metadata": {},
     "outputs": [],
     "prompt_number": 109
    },
    {
     "cell_type": "code",
     "collapsed": false,
     "input": [
      "getdata(0)"
     ],
     "language": "python",
     "metadata": {},
     "outputs": [
      {
       "metadata": {},
       "output_type": "pyout",
       "prompt_number": 110,
       "text": [
        "43891"
       ]
      }
     ],
     "prompt_number": 110
    },
    {
     "cell_type": "markdown",
     "metadata": {},
     "source": [
      "\u041d\u0430\u0441 \u0438\u043d\u0442\u0435\u0440\u0435\u0441\u0443\u044e\u0442 \u0442\u043e\u043b\u044c\u043a\u043e \u043d\u0435\u043a\u043e\u0442\u043e\u0440\u044b\u0435 \u0441\u0442\u0440\u043e\u0447\u043a\u0438 \u0432 \u043f\u0440\u043e\u0442\u043e\u043a\u043e\u043b\u0435. (\u041f\u043e \u043f\u0440\u0430\u0432\u0434\u0435 \u0441\u043a\u0430\u0437\u0430\u0442\u044c, \u044f \u0441\u0435\u0439\u0447\u0430\u0441 \u0437\u0430\u043f\u0440\u0430\u0448\u0438\u0432\u0430\u044e \u0438\u0445 \u0431\u043e\u043b\u044c\u0448\u0435, \u0447\u0435\u043c \u043d\u0430\u0434\u043e, \u0447\u0442\u043e\u0431\u044b \u0432\u044b\u0447\u0438\u0441\u043b\u0438\u0442\u044c \u044f\u0432\u043a\u0443. \u041d\u043e \u043f\u0443\u0441\u0442\u044c \u0431\u0443\u0434\u0443\u0442.)"
     ]
    },
    {
     "cell_type": "code",
     "collapsed": false,
     "input": [
      "protocol_line=[getdata(i) for i in [0,2,3,4,8,9]]\n",
      "total,v_pomesch,dosrok,nadom,nedeistv,deistv=protocol_line"
     ],
     "language": "python",
     "metadata": {},
     "outputs": [],
     "prompt_number": 112
    },
    {
     "cell_type": "code",
     "collapsed": false,
     "input": [
      "total"
     ],
     "language": "python",
     "metadata": {},
     "outputs": [
      {
       "metadata": {},
       "output_type": "pyout",
       "prompt_number": 113,
       "text": [
        "43891"
       ]
      }
     ],
     "prompt_number": 113
    },
    {
     "cell_type": "markdown",
     "metadata": {},
     "source": [
      "\u0422\u0435\u043f\u0435\u0440\u044c \u043c\u043e\u0436\u043d\u043e \u043f\u043e\u0441\u0447\u0438\u0442\u0430\u0442\u044c \u044f\u0432\u043a\u0443"
     ]
    },
    {
     "cell_type": "code",
     "collapsed": false,
     "input": [
      "yavka=float(v_pomesch+dosrok+nadom)/total\n",
      "print yavka*100"
     ],
     "language": "python",
     "metadata": {},
     "outputs": [
      {
       "output_type": "stream",
       "stream": "stdout",
       "text": [
        "25.7866077328\n"
       ]
      }
     ],
     "prompt_number": 115
    },
    {
     "cell_type": "markdown",
     "metadata": {},
     "source": [
      "## \u0428\u0430\u0433 3. \u041f\u043e\u043b\u0443\u0447\u0430\u0435\u043c \u0438\u043d\u0444\u043e\u0440\u043c\u0430\u0446\u0438\u044e \u043f\u043e \u0432\u0441\u0435\u043c \u043e\u043a\u0440\u0443\u0433\u0430\u043c\n",
      "\u041c\u044b \u0445\u043e\u0442\u0438\u043c \u043e\u0431\u0449\u0443\u044e \u044f\u0432\u043a\u0443 \u043f\u043e \u0432\u0441\u0435\u0439 \u041c\u043e\u0441\u043a\u0432\u0435. \u0414\u043b\u044f \u044d\u0442\u043e\u0433\u043e \u043c\u044b \u0437\u0430\u043f\u0440\u043e\u0441\u0438\u043c \u0434\u0430\u043d\u043d\u044b\u0435 \u043f\u043e \u043a\u0430\u0436\u0434\u043e\u043c\u0443 \u043e\u043a\u0440\u0443\u0433\u0443, \u0441\u0443\u043c\u043c\u0438\u0440\u0443\u0435\u043c \u043e\u0431\u0449\u0435\u0435 \u0447\u0438\u0441\u043b\u043e \u0438\u0437\u0431\u0438\u0440\u0430\u0442\u0435\u043b\u0435\u0439 \u0438 \u0431\u044e\u043b\u043b\u0435\u0442\u0435\u043d\u0435\u0439 \u0438 \u043f\u043e\u0441\u0447\u0438\u0442\u0430\u0435\u043c \u044f\u0432\u043a\u0443 \u043f\u043e \u044d\u0442\u0438\u043c \u0434\u0430\u043d\u043d\u044b\u043c. \u041d\u0430\u043c \u043f\u043e\u043d\u0430\u0434\u043e\u0431\u0438\u0442\u0441\u044f \u043e\u0431\u044a\u0435\u0434\u0438\u043d\u0438\u0442\u044c \u043a\u043e\u0434, \u043d\u0430\u043f\u0438\u0441\u0430\u043d\u043d\u044b\u0439 \u0432\u044b\u0448\u0435, \u0438 \u043f\u043e\u043c\u0435\u0441\u0442\u0438\u0442\u044c \u0435\u0433\u043e \u0432 \u0446\u0438\u043a\u043b."
     ]
    },
    {
     "cell_type": "code",
     "collapsed": false,
     "input": [
      "cumulative_line=[0 for i in xrange(6)]\n",
      "#\u0438\u043d\u0438\u0438\u0430\u043b\u0438\u0437\u0438\u0440\u0443\u0435\u043c \u0441\u043f\u0438\u0441\u043e\u043a \u043d\u0443\u043b\u044f\u043c\u0438\n",
      "for option in options.findAll(\"option\"):\n",
      "    url=option.get('value')\n",
      "    OIK=option.string\n",
      "    page=urllib2.urlopen(url)\n",
      "    data=BeautifulSoup(page.read())\n",
      "    a=data.findAll(\"a\")[-2]\n",
      "    url_res=a.get('href')\n",
      "    res_page=urllib2.urlopen(url_res)\n",
      "    bigtable=BeautifulSoup(res_page.read())\n",
      "    rows=bigtable.findAll('table')[2].findAll('table')[4].findAll('tr')\n",
      "    def getdata(i):\n",
      "        return int(rows[i].findAll('td')[2].find('b').string)\n",
      "    protocol_line=[getdata(i) for i in [0,2,3,4,8,9]]\n",
      "    total,v_pomesch,dosrok,nadom,nedeistv,deistv=protocol_line\n",
      "    cumulative_line=[x+y for x,y in zip(cumulative_line,protocol_line)]\n",
      "    yavka=float(v_pomesch+dosrok+nadom)/total\n",
      "    print OIK+\" \"+str(yavka)\n",
      "print cumulative_line\n",
      "total,v_pomesch,dosrok,nadom,nedeistv,deistv=cumulative_line\n",
      "yavka=float(v_pomesch+dosrok+nadom)/total\n",
      "print yavka"
     ],
     "language": "python",
     "metadata": {},
     "outputs": [
      {
       "output_type": "stream",
       "stream": "stdout",
       "text": [
        "1 \u2116 1 0.251854011194\n",
        "2 \u2116 2 0.193819133376"
       ]
      },
      {
       "output_type": "stream",
       "stream": "stdout",
       "text": [
        "\n",
        "3 \u2116 3 0.196984611903"
       ]
      },
      {
       "output_type": "stream",
       "stream": "stdout",
       "text": [
        "\n",
        "4 \u2116 4 0.216774952295"
       ]
      },
      {
       "output_type": "stream",
       "stream": "stdout",
       "text": [
        "\n",
        "5 \u2116 5 0.212607794033"
       ]
      },
      {
       "output_type": "stream",
       "stream": "stdout",
       "text": [
        "\n",
        "6 \u2116 6 0.20927271066"
       ]
      },
      {
       "output_type": "stream",
       "stream": "stdout",
       "text": [
        "\n",
        "7 \u2116 7 0.208447209331"
       ]
      },
      {
       "output_type": "stream",
       "stream": "stdout",
       "text": [
        "\n",
        "8 \u2116 8 0.200478017558"
       ]
      },
      {
       "output_type": "stream",
       "stream": "stdout",
       "text": [
        "\n",
        "9 \u2116 9 0.211760749624"
       ]
      },
      {
       "output_type": "stream",
       "stream": "stdout",
       "text": [
        "\n",
        "10 \u2116 10 0.201296963693"
       ]
      },
      {
       "output_type": "stream",
       "stream": "stdout",
       "text": [
        "\n",
        "11 \u2116 11 0.18430057448"
       ]
      },
      {
       "output_type": "stream",
       "stream": "stdout",
       "text": [
        "\n",
        "12 \u2116 12 0.20830927544"
       ]
      },
      {
       "output_type": "stream",
       "stream": "stdout",
       "text": [
        "\n",
        "13 \u2116 13 0.206482195345"
       ]
      },
      {
       "output_type": "stream",
       "stream": "stdout",
       "text": [
        "\n",
        "14 \u2116 14 0.208050739566"
       ]
      },
      {
       "output_type": "stream",
       "stream": "stdout",
       "text": [
        "\n",
        "15 \u2116 15 0.199925291692"
       ]
      },
      {
       "output_type": "stream",
       "stream": "stdout",
       "text": [
        "\n",
        "16 \u2116 16 0.215400317351"
       ]
      },
      {
       "output_type": "stream",
       "stream": "stdout",
       "text": [
        "\n",
        "17 \u2116 17 0.229564897255"
       ]
      },
      {
       "output_type": "stream",
       "stream": "stdout",
       "text": [
        "\n",
        "18 \u2116 18 0.235494349183"
       ]
      },
      {
       "output_type": "stream",
       "stream": "stdout",
       "text": [
        "\n",
        "19 \u2116 19 0.22132647112"
       ]
      },
      {
       "output_type": "stream",
       "stream": "stdout",
       "text": [
        "\n",
        "20 \u2116 20 0.222537600285"
       ]
      },
      {
       "output_type": "stream",
       "stream": "stdout",
       "text": [
        "\n",
        "21 \u2116 21 0.239083979205"
       ]
      },
      {
       "output_type": "stream",
       "stream": "stdout",
       "text": [
        "\n",
        "22 \u2116 22 0.207633425473"
       ]
      },
      {
       "output_type": "stream",
       "stream": "stdout",
       "text": [
        "\n",
        "23 \u2116 23 0.197300484097"
       ]
      },
      {
       "output_type": "stream",
       "stream": "stdout",
       "text": [
        "\n",
        "24 \u2116 24 0.225106311816"
       ]
      },
      {
       "output_type": "stream",
       "stream": "stdout",
       "text": [
        "\n",
        "25 \u2116 25 0.213489976532"
       ]
      },
      {
       "output_type": "stream",
       "stream": "stdout",
       "text": [
        "\n",
        "26 \u2116 26 0.21805089533"
       ]
      },
      {
       "output_type": "stream",
       "stream": "stdout",
       "text": [
        "\n",
        "27 \u2116 27 0.219585368416"
       ]
      },
      {
       "output_type": "stream",
       "stream": "stdout",
       "text": [
        "\n",
        "28 \u2116 28 0.210643090286"
       ]
      },
      {
       "output_type": "stream",
       "stream": "stdout",
       "text": [
        "\n",
        "29 \u2116 29 0.202506084677"
       ]
      },
      {
       "output_type": "stream",
       "stream": "stdout",
       "text": [
        "\n",
        "30 \u2116 30 0.200106606465"
       ]
      },
      {
       "output_type": "stream",
       "stream": "stdout",
       "text": [
        "\n",
        "31 \u2116 31 0.207610052285"
       ]
      },
      {
       "output_type": "stream",
       "stream": "stdout",
       "text": [
        "\n",
        "32 \u2116 32 0.22042565498"
       ]
      },
      {
       "output_type": "stream",
       "stream": "stdout",
       "text": [
        "\n",
        "33 \u2116 33 0.193313639721"
       ]
      },
      {
       "output_type": "stream",
       "stream": "stdout",
       "text": [
        "\n",
        "34 \u2116 34 0.196784623142"
       ]
      },
      {
       "output_type": "stream",
       "stream": "stdout",
       "text": [
        "\n",
        "35 \u2116 35 0.206833402158"
       ]
      },
      {
       "output_type": "stream",
       "stream": "stdout",
       "text": [
        "\n",
        "36 \u2116 36 0.208934467782"
       ]
      },
      {
       "output_type": "stream",
       "stream": "stdout",
       "text": [
        "\n",
        "37 \u2116 37 0.201748953495"
       ]
      },
      {
       "output_type": "stream",
       "stream": "stdout",
       "text": [
        "\n",
        "38 \u2116 38 0.232412499038"
       ]
      },
      {
       "output_type": "stream",
       "stream": "stdout",
       "text": [
        "\n",
        "39 \u2116 39 0.227860063257"
       ]
      },
      {
       "output_type": "stream",
       "stream": "stdout",
       "text": [
        "\n",
        "40 \u2116 40 0.19828916162"
       ]
      },
      {
       "output_type": "stream",
       "stream": "stdout",
       "text": [
        "\n",
        "41 \u2116 41 0.185056980925"
       ]
      },
      {
       "output_type": "stream",
       "stream": "stdout",
       "text": [
        "\n",
        "42 \u2116 42 0.197368749532"
       ]
      },
      {
       "output_type": "stream",
       "stream": "stdout",
       "text": [
        "\n",
        "43 \u2116 43 0.212601933359"
       ]
      },
      {
       "output_type": "stream",
       "stream": "stdout",
       "text": [
        "\n",
        "44 \u2116 44 0.190732820621"
       ]
      },
      {
       "output_type": "stream",
       "stream": "stdout",
       "text": [
        "\n",
        "45 \u2116 45 0.207604135698"
       ]
      },
      {
       "output_type": "stream",
       "stream": "stdout",
       "text": [
        "\n",
        "[7116699, 1378931, 27123, 86568, 50605, 1437614]\n",
        "0.209735159517\n"
       ]
      }
     ],
     "prompt_number": 120
    },
    {
     "cell_type": "markdown",
     "metadata": {},
     "source": [
      "## \u041e\u0442\u0432\u0435\u0442\n",
      "\u042f\u0432\u043a\u0430 \u043d\u0430 \u043c\u043e\u043c\u0435\u043d\u0442 \u043d\u0430\u043f\u0438\u0430\u043d\u0438\u044f \u043f\u043e\u0441\u0442\u0430 \u043f\u043e \u043f\u0443\u0431\u043b\u0438\u0447\u043d\u043e \u0434\u043e\u0441\u0442\u0443\u043f\u043d\u044b\u043c \u0434\u0430\u043d\u043d\u044b\u043c \u00ab\u0413\u0410\u0421 \u201e\u0412\u044b\u0431\u043e\u0440\u044b\u201d\u00bb \u0441\u043e\u0441\u0442\u0430\u0432\u043b\u044f\u0435\u0442 21%."
     ]
    }
   ],
   "metadata": {}
  }
 ]
}