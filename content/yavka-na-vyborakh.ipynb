{
 "cells": [
  {
   "cell_type": "markdown",
   "metadata": {},
   "source": [
    "## Постановка задачи\n",
    "Подводятся итоги по выборам в Московскую городскую думу. Есть данные по выборам из системы ГАС «Выборы», публикующиеся более или менее в реальном времени. Но они там разбиты по округам (что логично). Допустим, нас интересует явка «в целом по Москве». По правде говоря, она интересует председателя территориальной избирательной комиссии, членом которой я являюсь — он только что спросил у меня, не опубликована ли эта информация где. Я не нашёл в открытых источниках и поэтому решил быстро написать скрипт, который её считает. Итак."
   ]
  },
  {
   "cell_type": "markdown",
   "metadata": {},
   "source": [
    "## Шаг 1. Получаем список страниц со ссылками на результаты\n",
    "Это придётся сделать частично ручками. Я зашёл на [эту страницу](http://www.moscow_city.vybory.izbirkom.ru/region/moscow_city?action=show&root_a=772003003&vrn=27720001539308&region=77&global=null&type=0&prver=0&pronetvd=null) и нашёл в исходном коде строчку, отвечающую за выпадающий список «Нижестоящие избирательные комиссии»."
   ]
  },
  {
   "cell_type": "code",
   "execution_count": 6,
   "metadata": {
    "collapsed": false
   },
   "outputs": [],
   "source": [
    "options_str=\"\"\"<option value=\"http://www.moscow_city.vybory.izbirkom.ru/region/moscow_city?action=show&amp;root=772000001&amp;tvd=27720001539819&amp;vrn=27720001539308&amp;prver=0&amp;pronetvd=null&amp;region=77&amp;sub_region=77&amp;type=0&amp;vibid=27720001539819\">1 № 1</option>\n",
    "<option value=\"http://www.moscow_city.vybory.izbirkom.ru/region/moscow_city?action=show&amp;root=772000136&amp;tvd=27720001539954&amp;vrn=27720001539308&amp;prver=0&amp;pronetvd=null&amp;region=77&amp;sub_region=77&amp;type=0&amp;vibid=27720001539954\">2 № 2</option>\n",
    "<option value=\"http://www.moscow_city.vybory.izbirkom.ru/region/moscow_city?action=show&amp;root=772000226&amp;tvd=27720001540044&amp;vrn=27720001539308&amp;prver=0&amp;pronetvd=null&amp;region=77&amp;sub_region=77&amp;type=0&amp;vibid=27720001540044\">3 № 3</option>\n",
    "<option value=\"http://www.moscow_city.vybory.izbirkom.ru/region/moscow_city?action=show&amp;root=772000321&amp;tvd=27720001540139&amp;vrn=27720001539308&amp;prver=0&amp;pronetvd=null&amp;region=77&amp;sub_region=77&amp;type=0&amp;vibid=27720001540139\">4 № 4</option>\n",
    "<option value=\"http://www.moscow_city.vybory.izbirkom.ru/region/moscow_city?action=show&amp;root=772000408&amp;tvd=27720001540226&amp;vrn=27720001539308&amp;prver=0&amp;pronetvd=null&amp;region=77&amp;sub_region=77&amp;type=0&amp;vibid=27720001540226\">5 № 5</option>\n",
    "<option value=\"http://www.moscow_city.vybory.izbirkom.ru/region/moscow_city?action=show&amp;root=772000508&amp;tvd=27720001540326&amp;vrn=27720001539308&amp;prver=0&amp;pronetvd=null&amp;region=77&amp;sub_region=77&amp;type=0&amp;vibid=27720001540326\">6 № 6</option>\n",
    "<option value=\"http://www.moscow_city.vybory.izbirkom.ru/region/moscow_city?action=show&amp;root=772000586&amp;tvd=27720001540404&amp;vrn=27720001539308&amp;prver=0&amp;pronetvd=null&amp;region=77&amp;sub_region=77&amp;type=0&amp;vibid=27720001540404\">7 № 7</option>\n",
    "<option value=\"http://www.moscow_city.vybory.izbirkom.ru/region/moscow_city?action=show&amp;root=772000664&amp;tvd=27720001540482&amp;vrn=27720001539308&amp;prver=0&amp;pronetvd=null&amp;region=77&amp;sub_region=77&amp;type=0&amp;vibid=27720001540482\">8 № 8</option>\n",
    "<option value=\"http://www.moscow_city.vybory.izbirkom.ru/region/moscow_city?action=show&amp;root=772000753&amp;tvd=27720001540571&amp;vrn=27720001539308&amp;prver=0&amp;pronetvd=null&amp;region=77&amp;sub_region=77&amp;type=0&amp;vibid=27720001540571\">9 № 9</option>\n",
    "<option value=\"http://www.moscow_city.vybory.izbirkom.ru/region/moscow_city?action=show&amp;root=772000842&amp;tvd=27720001540660&amp;vrn=27720001539308&amp;prver=0&amp;pronetvd=null&amp;region=77&amp;sub_region=77&amp;type=0&amp;vibid=27720001540660\">10 № 10</option>\n",
    "<option value=\"http://www.moscow_city.vybory.izbirkom.ru/region/moscow_city?action=show&amp;root=772000923&amp;tvd=27720001540741&amp;vrn=27720001539308&amp;prver=0&amp;pronetvd=null&amp;region=77&amp;sub_region=77&amp;type=0&amp;vibid=27720001540741\">11 № 11</option>\n",
    "<option value=\"http://www.moscow_city.vybory.izbirkom.ru/region/moscow_city?action=show&amp;root=772001003&amp;tvd=27720001540821&amp;vrn=27720001539308&amp;prver=0&amp;pronetvd=null&amp;region=77&amp;sub_region=77&amp;type=0&amp;vibid=27720001540821\">12 № 12</option>\n",
    "<option value=\"http://www.moscow_city.vybory.izbirkom.ru/region/moscow_city?action=show&amp;root=772001073&amp;tvd=27720001540891&amp;vrn=27720001539308&amp;prver=0&amp;pronetvd=null&amp;region=77&amp;sub_region=77&amp;type=0&amp;vibid=27720001540891\">13 № 13</option>\n",
    "<option value=\"http://www.moscow_city.vybory.izbirkom.ru/region/moscow_city?action=show&amp;root=772001149&amp;tvd=27720001540967&amp;vrn=27720001539308&amp;prver=0&amp;pronetvd=null&amp;region=77&amp;sub_region=77&amp;type=0&amp;vibid=27720001540967\">14 № 14</option>\n",
    "<option value=\"http://www.moscow_city.vybory.izbirkom.ru/region/moscow_city?action=show&amp;root=772001245&amp;tvd=27720001541063&amp;vrn=27720001539308&amp;prver=0&amp;pronetvd=null&amp;region=77&amp;sub_region=77&amp;type=0&amp;vibid=27720001541063\">15 № 15</option>\n",
    "<option value=\"http://www.moscow_city.vybory.izbirkom.ru/region/moscow_city?action=show&amp;root=772001323&amp;tvd=27720001541141&amp;vrn=27720001539308&amp;prver=0&amp;pronetvd=null&amp;region=77&amp;sub_region=77&amp;type=0&amp;vibid=27720001541141\">16 № 16</option>\n",
    "<option value=\"http://www.moscow_city.vybory.izbirkom.ru/region/moscow_city?action=show&amp;root=772001405&amp;tvd=27720001541223&amp;vrn=27720001539308&amp;prver=0&amp;pronetvd=null&amp;region=77&amp;sub_region=77&amp;type=0&amp;vibid=27720001541223\">17 № 17</option>\n",
    "<option value=\"http://www.moscow_city.vybory.izbirkom.ru/region/moscow_city?action=show&amp;root=772001479&amp;tvd=27720001541297&amp;vrn=27720001539308&amp;prver=0&amp;pronetvd=null&amp;region=77&amp;sub_region=77&amp;type=0&amp;vibid=27720001541297\">18 № 18</option>\n",
    "<option value=\"http://www.moscow_city.vybory.izbirkom.ru/region/moscow_city?action=show&amp;root=772001567&amp;tvd=27720001541385&amp;vrn=27720001539308&amp;prver=0&amp;pronetvd=null&amp;region=77&amp;sub_region=77&amp;type=0&amp;vibid=27720001541385\">19 № 19</option>\n",
    "<option value=\"http://www.moscow_city.vybory.izbirkom.ru/region/moscow_city?action=show&amp;root=772001647&amp;tvd=27720001541465&amp;vrn=27720001539308&amp;prver=0&amp;pronetvd=null&amp;region=77&amp;sub_region=77&amp;type=0&amp;vibid=27720001541465\">20 № 20</option>\n",
    "<option value=\"http://www.moscow_city.vybory.izbirkom.ru/region/moscow_city?action=show&amp;root=772001725&amp;tvd=27720001541543&amp;vrn=27720001539308&amp;prver=0&amp;pronetvd=null&amp;region=77&amp;sub_region=77&amp;type=0&amp;vibid=27720001541543\">21 № 21</option>\n",
    "<option value=\"http://www.moscow_city.vybory.izbirkom.ru/region/moscow_city?action=show&amp;root=772001802&amp;tvd=27720001541620&amp;vrn=27720001539308&amp;prver=0&amp;pronetvd=null&amp;region=77&amp;sub_region=77&amp;type=0&amp;vibid=27720001541620\">22 № 22</option>\n",
    "<option value=\"http://www.moscow_city.vybory.izbirkom.ru/region/moscow_city?action=show&amp;root=772001878&amp;tvd=27720001541696&amp;vrn=27720001539308&amp;prver=0&amp;pronetvd=null&amp;region=77&amp;sub_region=77&amp;type=0&amp;vibid=27720001541696\">23 № 23</option>\n",
    "<option value=\"http://www.moscow_city.vybory.izbirkom.ru/region/moscow_city?action=show&amp;root=772001952&amp;tvd=27720001541770&amp;vrn=27720001539308&amp;prver=0&amp;pronetvd=null&amp;region=77&amp;sub_region=77&amp;type=0&amp;vibid=27720001541770\">24 № 24</option>\n",
    "<option value=\"http://www.moscow_city.vybory.izbirkom.ru/region/moscow_city?action=show&amp;root=772002055&amp;tvd=27720001541873&amp;vrn=27720001539308&amp;prver=0&amp;pronetvd=null&amp;region=77&amp;sub_region=77&amp;type=0&amp;vibid=27720001541873\">25 № 25</option>\n",
    "<option value=\"http://www.moscow_city.vybory.izbirkom.ru/region/moscow_city?action=show&amp;root=772002124&amp;tvd=27720001541942&amp;vrn=27720001539308&amp;prver=0&amp;pronetvd=null&amp;region=77&amp;sub_region=77&amp;type=0&amp;vibid=27720001541942\">26 № 26</option>\n",
    "<option value=\"http://www.moscow_city.vybory.izbirkom.ru/region/moscow_city?action=show&amp;root=772002191&amp;tvd=27720001542009&amp;vrn=27720001539308&amp;prver=0&amp;pronetvd=null&amp;region=77&amp;sub_region=77&amp;type=0&amp;vibid=27720001542009\">27 № 27</option>\n",
    "<option value=\"http://www.moscow_city.vybory.izbirkom.ru/region/moscow_city?action=show&amp;root=772002258&amp;tvd=27720001542076&amp;vrn=27720001539308&amp;prver=0&amp;pronetvd=null&amp;region=77&amp;sub_region=77&amp;type=0&amp;vibid=27720001542076\">28 № 28</option>\n",
    "<option value=\"http://www.moscow_city.vybory.izbirkom.ru/region/moscow_city?action=show&amp;root=772002339&amp;tvd=27720001542157&amp;vrn=27720001539308&amp;prver=0&amp;pronetvd=null&amp;region=77&amp;sub_region=77&amp;type=0&amp;vibid=27720001542157\">29 № 29</option>\n",
    "<option value=\"http://www.moscow_city.vybory.izbirkom.ru/region/moscow_city?action=show&amp;root=772002411&amp;tvd=27720001542229&amp;vrn=27720001539308&amp;prver=0&amp;pronetvd=null&amp;region=77&amp;sub_region=77&amp;type=0&amp;vibid=27720001542229\">30 № 30</option>\n",
    "<option value=\"http://www.moscow_city.vybory.izbirkom.ru/region/moscow_city?action=show&amp;root=772002486&amp;tvd=27720001542304&amp;vrn=27720001539308&amp;prver=0&amp;pronetvd=null&amp;region=77&amp;sub_region=77&amp;type=0&amp;vibid=27720001542304\">31 № 31</option>\n",
    "<option value=\"http://www.moscow_city.vybory.izbirkom.ru/region/moscow_city?action=show&amp;root=772002559&amp;tvd=27720001542377&amp;vrn=27720001539308&amp;prver=0&amp;pronetvd=null&amp;region=77&amp;sub_region=77&amp;type=0&amp;vibid=27720001542377\">32 № 32</option>\n",
    "<option value=\"http://www.moscow_city.vybory.izbirkom.ru/region/moscow_city?action=show&amp;root=772002654&amp;tvd=27720001542472&amp;vrn=27720001539308&amp;prver=0&amp;pronetvd=null&amp;region=77&amp;sub_region=77&amp;type=0&amp;vibid=27720001542472\">33 № 33</option>\n",
    "<option value=\"http://www.moscow_city.vybory.izbirkom.ru/region/moscow_city?action=show&amp;root=772002734&amp;tvd=27720001542552&amp;vrn=27720001539308&amp;prver=0&amp;pronetvd=null&amp;region=77&amp;sub_region=77&amp;type=0&amp;vibid=27720001542552\">34 № 34</option>\n",
    "<option value=\"http://www.moscow_city.vybory.izbirkom.ru/region/moscow_city?action=show&amp;root=772002830&amp;tvd=27720001542648&amp;vrn=27720001539308&amp;prver=0&amp;pronetvd=null&amp;region=77&amp;sub_region=77&amp;type=0&amp;vibid=27720001542648\">35 № 35</option>\n",
    "<option value=\"http://www.moscow_city.vybory.izbirkom.ru/region/moscow_city?action=show&amp;root=772002922&amp;tvd=27720001542740&amp;vrn=27720001539308&amp;prver=0&amp;pronetvd=null&amp;region=77&amp;sub_region=77&amp;type=0&amp;vibid=27720001542740\">36 № 36</option>\n",
    "<option value=\"http://www.moscow_city.vybory.izbirkom.ru/region/moscow_city?action=show&amp;root=772003003&amp;tvd=27720001542821&amp;vrn=27720001539308&amp;prver=0&amp;pronetvd=null&amp;region=77&amp;sub_region=77&amp;type=0&amp;vibid=27720001542821\">37 № 37</option>\n",
    "<option value=\"http://www.moscow_city.vybory.izbirkom.ru/region/moscow_city?action=show&amp;root=772003101&amp;tvd=27720001542919&amp;vrn=27720001539308&amp;prver=0&amp;pronetvd=null&amp;region=77&amp;sub_region=77&amp;type=0&amp;vibid=27720001542919\">38 № 38</option>\n",
    "<option value=\"http://www.moscow_city.vybory.izbirkom.ru/region/moscow_city?action=show&amp;root=772003203&amp;tvd=27720001543021&amp;vrn=27720001539308&amp;prver=0&amp;pronetvd=null&amp;region=77&amp;sub_region=77&amp;type=0&amp;vibid=27720001543021\">39 № 39</option>\n",
    "<option value=\"http://www.moscow_city.vybory.izbirkom.ru/region/moscow_city?action=show&amp;root=772003295&amp;tvd=27720001543113&amp;vrn=27720001539308&amp;prver=0&amp;pronetvd=null&amp;region=77&amp;sub_region=77&amp;type=0&amp;vibid=27720001543113\">40 № 40</option>\n",
    "<option value=\"http://www.moscow_city.vybory.izbirkom.ru/region/moscow_city?action=show&amp;root=772003378&amp;tvd=27720001543196&amp;vrn=27720001539308&amp;prver=0&amp;pronetvd=null&amp;region=77&amp;sub_region=77&amp;type=0&amp;vibid=27720001543196\">41 № 41</option>\n",
    "<option value=\"http://www.moscow_city.vybory.izbirkom.ru/region/moscow_city?action=show&amp;root=772003457&amp;tvd=27720001543275&amp;vrn=27720001539308&amp;prver=0&amp;pronetvd=null&amp;region=77&amp;sub_region=77&amp;type=0&amp;vibid=27720001543275\">42 № 42</option>\n",
    "<option value=\"http://www.moscow_city.vybory.izbirkom.ru/region/moscow_city?action=show&amp;root=772003543&amp;tvd=27720001543361&amp;vrn=27720001539308&amp;prver=0&amp;pronetvd=null&amp;region=77&amp;sub_region=77&amp;type=0&amp;vibid=27720001543361\">43 № 43</option>\n",
    "<option value=\"http://www.moscow_city.vybory.izbirkom.ru/region/moscow_city?action=show&amp;root=772003621&amp;tvd=27720001543439&amp;vrn=27720001539308&amp;prver=0&amp;pronetvd=null&amp;region=77&amp;sub_region=77&amp;type=0&amp;vibid=27720001543439\">44 № 44</option>\n",
    "<option value=\"http://www.moscow_city.vybory.izbirkom.ru/region/moscow_city?action=show&amp;root=772003707&amp;tvd=27720001543525&amp;vrn=27720001539308&amp;prver=0&amp;pronetvd=null&amp;region=77&amp;sub_region=77&amp;type=0&amp;vibid=27720001543525\">45 № 45</option>\n",
    "\"\"\""
   ]
  },
  {
   "cell_type": "markdown",
   "metadata": {},
   "source": [
    "## Шаг 2. Обрабатываем один округ\n",
    "Прежде, чем писать код, обрабатывающий весь город, напишем его для одного округа. Для начала нам нужно получить получить из строчки выше адреса страниц по отдельным округам. Чтобы распарсить строчку выше, мы используем `BeautifulSoup`."
   ]
  },
  {
   "cell_type": "code",
   "execution_count": 82,
   "metadata": {
    "collapsed": false
   },
   "outputs": [],
   "source": [
    "from bs4 import BeautifulSoup\n",
    "import urllib2"
   ]
  },
  {
   "cell_type": "code",
   "execution_count": 83,
   "metadata": {
    "collapsed": false
   },
   "outputs": [],
   "source": [
    "options=BeautifulSoup(options_str)"
   ]
  },
  {
   "cell_type": "markdown",
   "metadata": {},
   "source": [
    "Возьмём первый элемент типа `option` и вытащим из него название ОИК (окружной комиссии) и url страницы, относящейся к этой ОИК."
   ]
  },
  {
   "cell_type": "code",
   "execution_count": 119,
   "metadata": {
    "collapsed": false
   },
   "outputs": [
    {
     "name": "stdout",
     "output_type": "stream",
     "text": [
      "url = http://www.moscow_city.vybory.izbirkom.ru/region/moscow_city?action=show&root=772000001&tvd=27720001539819&vrn=27720001539308&prver=0&pronetvd=null&region=77&sub_region=77&type=0&vibid=27720001539819\n",
      "OIK = 1 № 1\n"
     ]
    }
   ],
   "source": [
    "option=options.find(\"option\")\n",
    "url=option.get('value')\n",
    "OIK=option.string\n",
    "print \"url = %s\\nOIK = %s\" % (url, OIK)"
   ]
  },
  {
   "cell_type": "markdown",
   "metadata": {},
   "source": [
    "Эта страница не содержит нужной таблицы, но содержит ссылку на неё. Это предпоследняя ссылка на странице."
   ]
  },
  {
   "cell_type": "code",
   "execution_count": 87,
   "metadata": {
    "collapsed": false
   },
   "outputs": [],
   "source": [
    "page=urllib2.urlopen(url)\n",
    "data=BeautifulSoup(page.read())\n",
    "a=data.findAll(\"a\")[-2]\n",
    "url_res=a.get('href')\n",
    "res_page=urllib2.urlopen(url_res)\n",
    "bigtable=BeautifulSoup(res_page.read())"
   ]
  },
  {
   "cell_type": "markdown",
   "metadata": {},
   "source": [
    "Теперь найдём нужную табличку (точнее, нужный тег `<table>`) на этой странице. Делается внимательным вглядыванием в исходник или методом научного тыка."
   ]
  },
  {
   "cell_type": "code",
   "execution_count": 96,
   "metadata": {
    "collapsed": false
   },
   "outputs": [],
   "source": [
    "rows=bigtable.findAll('table')[2].findAll('table')[4].findAll('tr')"
   ]
  },
  {
   "cell_type": "code",
   "execution_count": 108,
   "metadata": {
    "collapsed": false
   },
   "outputs": [
    {
     "data": {
      "text/plain": [
       "<tr bgcolor=\"#CCCCCC\">\n",
       "<td style=\"color:black\">1</td>\n",
       "<td align=\"left\" style=\"color:black\">Число избирателей, внесенных в список</td>\n",
       "<td align=\"right\" style=\"color:black\"><b>43891</b><br/>\n",
       "</td>\n",
       "</tr>"
      ]
     },
     "execution_count": 108,
     "metadata": {},
     "output_type": "execute_result"
    }
   ],
   "source": [
    "rows[0]"
   ]
  },
  {
   "cell_type": "markdown",
   "metadata": {},
   "source": [
    "Нужная нам информация в третьей ячейке, в теге `<b>`. И мы хотим получить число, а не строчку. Нам придётся запрашивать эту информацию для разных строчек, поэтому определим функцию "
   ]
  },
  {
   "cell_type": "code",
   "execution_count": 109,
   "metadata": {
    "collapsed": false
   },
   "outputs": [],
   "source": [
    "def getdata(i):\n",
    "    return int(rows[i].findAll('td')[2].find('b').string)"
   ]
  },
  {
   "cell_type": "code",
   "execution_count": 110,
   "metadata": {
    "collapsed": false
   },
   "outputs": [
    {
     "data": {
      "text/plain": [
       "43891"
      ]
     },
     "execution_count": 110,
     "metadata": {},
     "output_type": "execute_result"
    }
   ],
   "source": [
    "getdata(0)"
   ]
  },
  {
   "cell_type": "markdown",
   "metadata": {},
   "source": [
    "Нас интересуют только некоторые строчки в протоколе. (По правде сказать, я сейчас запрашиваю их больше, чем надо, чтобы вычислить явку. Но пусть будут.)"
   ]
  },
  {
   "cell_type": "code",
   "execution_count": 112,
   "metadata": {
    "collapsed": false
   },
   "outputs": [],
   "source": [
    "protocol_line=[getdata(i) for i in [0,2,3,4,8,9]]\n",
    "total,v_pomesch,dosrok,nadom,nedeistv,deistv=protocol_line"
   ]
  },
  {
   "cell_type": "code",
   "execution_count": 113,
   "metadata": {
    "collapsed": false
   },
   "outputs": [
    {
     "data": {
      "text/plain": [
       "43891"
      ]
     },
     "execution_count": 113,
     "metadata": {},
     "output_type": "execute_result"
    }
   ],
   "source": [
    "total"
   ]
  },
  {
   "cell_type": "markdown",
   "metadata": {},
   "source": [
    "Теперь можно посчитать явку"
   ]
  },
  {
   "cell_type": "code",
   "execution_count": 115,
   "metadata": {
    "collapsed": false
   },
   "outputs": [
    {
     "name": "stdout",
     "output_type": "stream",
     "text": [
      "25.7866077328\n"
     ]
    }
   ],
   "source": [
    "yavka=float(v_pomesch+dosrok+nadom)/total\n",
    "print yavka*100"
   ]
  },
  {
   "cell_type": "markdown",
   "metadata": {},
   "source": [
    "## Шаг 3. Получаем информацию по всем округам\n",
    "Мы хотим общую явку по всей Москве. Для этого мы запросим данные по каждому округу, суммируем общее число избирателей и бюллетеней и посчитаем явку по этим данным. Нам понадобится объединить код, написанный выше, и поместить его в цикл."
   ]
  },
  {
   "cell_type": "code",
   "execution_count": 120,
   "metadata": {
    "collapsed": false
   },
   "outputs": [
    {
     "name": "stdout",
     "output_type": "stream",
     "text": [
      "1 № 1 0.251854011194\n",
      "2 № 2 0.193819133376\n",
      "3 № 3 0.196984611903\n",
      "4 № 4 0.216774952295\n",
      "5 № 5 0.212607794033\n",
      "6 № 6 0.20927271066\n",
      "7 № 7 0.208447209331\n",
      "8 № 8 0.200478017558\n",
      "9 № 9 0.211760749624\n",
      "10 № 10 0.201296963693\n",
      "11 № 11 0.18430057448\n",
      "12 № 12 0.20830927544\n",
      "13 № 13 0.206482195345\n",
      "14 № 14 0.208050739566\n",
      "15 № 15 0.199925291692\n",
      "16 № 16 0.215400317351\n",
      "17 № 17 0.229564897255\n",
      "18 № 18 0.235494349183\n",
      "19 № 19 0.22132647112\n",
      "20 № 20 0.222537600285\n",
      "21 № 21 0.239083979205\n",
      "22 № 22 0.207633425473\n",
      "23 № 23 0.197300484097\n",
      "24 № 24 0.225106311816\n",
      "25 № 25 0.213489976532\n",
      "26 № 26 0.21805089533\n",
      "27 № 27 0.219585368416\n",
      "28 № 28 0.210643090286\n",
      "29 № 29 0.202506084677\n",
      "30 № 30 0.200106606465\n",
      "31 № 31 0.207610052285\n",
      "32 № 32 0.22042565498\n",
      "33 № 33 0.193313639721\n",
      "34 № 34 0.196784623142\n",
      "35 № 35 0.206833402158\n",
      "36 № 36 0.208934467782\n",
      "37 № 37 0.201748953495\n",
      "38 № 38 0.232412499038\n",
      "39 № 39 0.227860063257\n",
      "40 № 40 0.19828916162\n",
      "41 № 41 0.185056980925\n",
      "42 № 42 0.197368749532\n",
      "43 № 43 0.212601933359\n",
      "44 № 44 0.190732820621\n",
      "45 № 45 0.207604135698\n",
      "[7116699, 1378931, 27123, 86568, 50605, 1437614]\n",
      "0.209735159517\n"
     ]
    }
   ],
   "source": [
    "cumulative_line=[0 for i in xrange(6)]\n",
    "#инииализируем список нулями\n",
    "for option in options.findAll(\"option\"):\n",
    "    url=option.get('value')\n",
    "    OIK=option.string\n",
    "    page=urllib2.urlopen(url)\n",
    "    data=BeautifulSoup(page.read())\n",
    "    a=data.findAll(\"a\")[-2]\n",
    "    url_res=a.get('href')\n",
    "    res_page=urllib2.urlopen(url_res)\n",
    "    bigtable=BeautifulSoup(res_page.read())\n",
    "    rows=bigtable.findAll('table')[2].findAll('table')[4].findAll('tr')\n",
    "    def getdata(i):\n",
    "        return int(rows[i].findAll('td')[2].find('b').string)\n",
    "    protocol_line=[getdata(i) for i in [0,2,3,4,8,9]]\n",
    "    total,v_pomesch,dosrok,nadom,nedeistv,deistv=protocol_line\n",
    "    cumulative_line=[x+y for x,y in zip(cumulative_line,protocol_line)]\n",
    "    yavka=float(v_pomesch+dosrok+nadom)/total\n",
    "    print OIK+\" \"+str(yavka)\n",
    "print cumulative_line\n",
    "total,v_pomesch,dosrok,nadom,nedeistv,deistv=cumulative_line\n",
    "yavka=float(v_pomesch+dosrok+nadom)/total\n",
    "print yavka"
   ]
  },
  {
   "cell_type": "markdown",
   "metadata": {},
   "source": [
    "## Ответ\n",
    "Явка на момент напиания поста по публично доступным данным «ГАС „Выборы”» составляет 21%."
   ]
  }
 ],
 "metadata": {
  "kernelspec": {
   "display_name": "Python 3",
   "language": "python",
   "name": "python3"
  },
  "language_info": {
   "codemirror_mode": {
    "name": "ipython",
    "version": 3
   },
   "file_extension": ".py",
   "mimetype": "text/x-python",
   "name": "python",
   "nbconvert_exporter": "python",
   "pygments_lexer": "ipython3",
   "version": "3.5.2"
  }
 },
 "nbformat": 4,
 "nbformat_minor": 0
}
