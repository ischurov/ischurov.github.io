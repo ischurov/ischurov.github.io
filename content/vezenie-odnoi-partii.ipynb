{
 "cells": [
  {
   "cell_type": "markdown",
   "metadata": {},
   "source": [
    "Звонок с одной там небольшой [радиостанции](http://echo.msk.ru/) — просят прокомментировать <a href=\"https://www.facebook.com/andrei.buzin/posts/906714376024441\">заявление</a> Андрея Юрьевича Бузина о том, что вероятность получения «Единой Россией» в результате жеребьевки первого места в бюллетенях в 5 субъектах из 13 (как оно на самом деле получилось) чрезвычайно низка — порядка 1/100, <a href=\"http://top.rbc.ru/politics/26/08/2014/944942.shtml\">процитированное РБК</a>. В обычной ситуации я бы, наверное, не осмелился выступать в таком качестве — Андрей Юрьевич является одним из наиболее квалифицированных экспертов по выборам в России и в статистике разбирается лучше меня, так что непонятно, кто я такой, чтобы подтверждать или опровергать его выводы. Но математика тем приятная наука, что здесь выводы однозначно следуют из посылок, и проверить правильность рассуждений может каждый. И я согласился.\n",
    "\n",
    "С чисто математической точки зрения проблема вот в чём. Есть разные субъекты (всего 13 штук), в каждом из них в выборах участвует свой набор партий — где-то 8 партий, где-то 12, где-то 14. Порядок следования партий в бюллетене в каждом регионе распределяется жребием. Как посчитать вероятность того, что одна конкретная партия займёт первую строчку, например, в пяти любых субъектах? Хорошей точной формулы для этого я не знаю (если бы число партий было одинаковым, это было бы обыкновенное биномиальное распределение и всё можно было посчитать быстро). Можно воспользоваться приближением (вопрос для студентов-первокурсников: каким именно распределением в этом случае нужно использовать в качестве приближения?), можно провести численный эксперимент (как сделал А. Ю. Бузин), но мне хотелось посчитать точно. И я посчитал.\n",
    "<!-- TEASER_END -->"
   ]
  },
  {
   "cell_type": "markdown",
   "metadata": {},
   "source": [
    "## Шаг 1: считаем партии\n",
    "Идём на сайт ЦИК и находим там информацию по партиям, участвующим в выборах. Вот [тут](http://www.cikrf.ru/banners/vib_arhiv/electday/vib_140914/svod_spravka.html). Нам нужно получить массив из 13 элементов (по числу субъектов, в которых проводятся выборы), в каждом написано, сколько партий участвует в соотвтствующих выборах. Можно посчитать глазками и ручками (честно говоря, я так и сделал сначала), а можно использовать регулярные выражения."
   ]
  },
  {
   "cell_type": "code",
   "execution_count": 1,
   "metadata": {
    "collapsed": false
   },
   "outputs": [],
   "source": [
    "import re\n",
    "# нам нужны регулярные выражения\n",
    "\n",
    "s=\"\"\"в Республике Алтай – 631 кандидат выдвинут, 493 зарегистрировано (63-ЕДИНАЯ РОССИЯ, 59-КПРФ, 54-ЛДПР, 47- СПРАВЕДЛИВАЯ РОССИЯ, 46-ПАТРИОТЫ РОССИИ, 24-ЯБЛОКО, 28-РПР-ПАРНАС, 31-ЗЕЛЕНЫЕ, 27-КПСС, 39-ПАРТИЯ ЗА СПРАВЕДЛИВОСТЬ, 36-РОДИНА, 39- ГРАЖДАНСКАЯ ИНИЦИАТИВА),\n",
    "в Кабардино-Балкарской Республике – 572 кандидата выдвинуто, 433 зарегистрировано (111-ЕДИНАЯ РОССИЯ, 45-КПРФ, 29-ЛДПР, 44-СПРАВЕДЛИВАЯ РОССИЯ, 36-ПАТРИОТЫ РОССИИ, 36-ЯБЛОКО, 49-ЗЕЛЕНЫЕ, 44-РОДИНА, 39- СОЮЗ ТРУДА),\n",
    "в Карачаево-Черкесской Республике – 516 кандидатов выдвинуто, 339 зарегистрировано (84-ЕДИНАЯ РОССИЯ, 39-КПРФ, 35-ЛДПР, 33-СПРАВЕДЛИВАЯ РОССИЯ, 48-ПАТРИОТЫ РОССИИ, 100-КОММУНИСТЫ РОССИИ),\n",
    "в Республике Крым – 855 кандидатов выдвинуто, 727 зарегистрировано (74-ЕДИНАЯ РОССИЯ, 59-КПРФ, 65-ЛДПР, 57-СПРАВЕДЛИВАЯ РОССИЯ, 66-ПАТРИОТЫ РОССИИ, 55-ДПР, 57-КОММУНИСТЫ РОССИИ, 57-ЗЕЛЕНЫЕ, 55-КПСС, 57-РОССИЙСКАЯ ПАРТИЯ ПЕНСИОНЕРОВ ЗА СПРАВЕДЛИВОСТЬ, 67-РОДИНА, 58-ПАРТИЯ ВЕТЕРАНОВ),\n",
    "в Республике Марий Эл – 468 кандидатов выдвинуто, 455 зарегистрировано (81-ЕДИНАЯ РОССИЯ, 79-КПРФ, 47-ЛДПР, 39-СПРАВЕДЛИВАЯ РОССИЯ, 72- КОММУНИСТЫ РОССИИ, 76-ЗЕЛЕНЫЕ, 33-КПСС, 28-РОДИНА),\n",
    "в Республике Татарстан – 263 кандидатов выдвинуто, 216 зарегистрирован (56-ЕДИНАЯ РОССИЯ, 30-КПРФ, 33-ЛДПР, 46-СПРАВЕДЛИВАЯ РОССИЯ, 6-ЯБЛОКО, 28-КОММУНИСТЫ РОССИИ, 14-РОДИНА, 3-РОДНАЯ ПАРТИЯ),\n",
    "в Республике Тыва – 202 кандидатов выдвинуто, 176 зарегистрировано (34-ЕДИНАЯ РОССИЯ, 27-КПРФ, 21-ЛДПР, 28-СПРАВЕДЛИВАЯ РОССИЯ, 23-ПАТРИОТЫ РОССИИ, 10-РПР-ПАРНАС, 33- КОММУНИСТЫ РОССИИ),\n",
    "в Хабаровском крае – 528 кандидатов выдвинуто, 400 зарегистрировано (56-ЕДИНАЯ РОССИЯ, 53-КПРФ, 62-ЛДПР, 47-СПРАВЕДЛИВАЯ РОССИЯ, 41-ЯБЛОКО, 83-КОММУНИСТЫ РОССИИ, 58-РОДИНА),\n",
    "в Брянской области - 1150 кандидатов выдвинуто, 1132 зарегистрировано (126-ЕДИНАЯ РОССИЯ, 130-КПРФ, 124-ЛДПР, 130-СПРАВЕДЛИВАЯ РОССИЯ, 130- СПРАВЕДЛИВАЯ РОССИЯ, 95-КОММУНИСТЫ РОССИИ, 83-КПСС, 115-РОССИЙСКАЯ ПАРТИЯ ПЕНСИОНЕРОВ ЗА СПРАВЕДЛИВОСТЬ, 120-ГРАЖДАНСКАЯ ПЛАТФОРМА, 119-РОДИНА, 90- ПАРТИЯ ВЕЛИКОЕ ОТЕЧЕСТВО),\n",
    "в Волгоградской области - 549 кандидатов выдвинуто, 478 зарегистрировано (60-ЕДИНАЯ РОССИЯ, 50-КПРФ, 49-ЛДПР, 48-СПРАВЕДЛИВАЯ РОССИЯ, 39-ПАТРИОТЫ РОССИИ, 31-ЯБЛОКО, 27-АЛЬЯНС ЗЕЛЕНЫХ И СОЦИАЛ-ДЕМОКРАТОВ, 38-КОММУНИСТЫ РОССИИ, 32-НАРОДНАЯ ПАРТИЯ «ЗА ЖЕНЩИН РОССИИ», 27-КПСС, 44-РОДИНА, 33-ПАРТИЯ ВЕЛИКОЕ ОТЕЧЕСТВО),\n",
    "в Тульской области – 680 кандидатов выдвинуто, 567 зарегистрировано (107-ЕДИНАЯ РОССИЯ, 97-КПРФ, 92-ЛДПР, 57-СПРАВЕДЛИВАЯ РОССИЯ, 51-ЯБЛОКО, 85-РОССИЙСКАЯ ПАРТИЯ ПЕНСИОНЕРОВ ЗА СПРАВДЛИВОСТЬ, 78-РОДИНА),\n",
    "в городе Севастополе - 289 кандидатов выдвинуто, 266 зарегистрировано (24-ЕДИНАЯ РОССИЯ, 24-КПРФ, 22-ЛДПР, 24-СПРАВЕДЛИВАЯ РОССИЯ, 22-ПАТРИОТЫ РОССИИ, 19-КОММУНИСТЫ РОССИИ, 13-СОЮЗ ГОРОЖАН, 17-КПСС, 16-РОССИЙСКАЯ ПАРТИЯ ПЕНСИОНЕРОВ ЗА СПРАВДЛИВОСТЬ, 24-РОДИНА, 12-ПАРТИЯ ВЕТЕРАНОВ РОССИИ, 20-ПАРТИЯ САДОВОДОВ, 12-ПАРТИЯ ВЕЛИКОЕ ОТЕЧЕСТВО, 17-НАЦИОНАЛЬНЫЙ КУРС),\n",
    "в Ненецком автономном округе - 118 кандидатов выдвинуто, 99 зарегистрировано (27- ЕДИНАЯ РОССИЯ, 13-КПРФ, 12-ЛДПР, 7-СПРАВЕДЛИВАЯ РОССИЯ, 7-ПАРТИЯ ПЕНСИОНЕРОВ РОССИИ, 11-КОММУНИСТЫ РОССИИ, 11-ГРАЖДАНСКАЯ СИЛА, 11-РОДИНА);\"\"\"\n",
    "#взято со страницы http://www.cikrf.ru/banners/vib_arhiv/electday/vib_140914/svod_spravka.html\n",
    "\n",
    "num_of_parties=[len(re.findall(\"\\d+-\",l)) for l in s.splitlines()]\n",
    "# мы порезали длинную строку l на отдельные строчки \n",
    "# (в каждой строчке информация про один субъект)\n",
    "# с помощью s.splitlines(), затем в каждом нашли \n",
    "# подстроку вида «цифры с последующим знаком -»\n",
    "# и посчитали их количество (len). Это число партий, \n",
    "# баллотирующихся в соответствующем субъекте"
   ]
  },
  {
   "cell_type": "code",
   "execution_count": 2,
   "metadata": {
    "collapsed": false
   },
   "outputs": [
    {
     "data": {
      "text/plain": [
       "[12, 9, 6, 12, 8, 8, 7, 7, 11, 12, 7, 14, 8]"
      ]
     },
     "execution_count": 2,
     "metadata": {},
     "output_type": "execute_result"
    }
   ],
   "source": [
    "num_of_parties\n",
    "# проверим, что вышло"
   ]
  },
  {
   "cell_type": "code",
   "execution_count": 3,
   "metadata": {
    "collapsed": false
   },
   "outputs": [],
   "source": [
    "N=len(num_of_parties)\n",
    "# число субъектов"
   ]
  },
  {
   "cell_type": "markdown",
   "metadata": {},
   "source": [
    "## Шаг 2: считаем вероятности"
   ]
  },
  {
   "cell_type": "code",
   "execution_count": 4,
   "metadata": {
    "collapsed": false
   },
   "outputs": [],
   "source": [
    "from numpy import prod\n",
    "# нам нужна функция, перемножающая элементы списка\n",
    "\n",
    "def prob_comb(combination):\n",
    "    \"\"\"Эта функция считает вероятность того, что какая-то конкретная партия займёт первую строчку\n",
    "    в субъектах, номера которых перечислены в списке combination\n",
    "    например, если combination == [0,1], это означает, что будет посчитана вероятность того, что\n",
    "    какая-то конкретная партия займёт первую строчку в Республике Алтай и Кабардино-Балкарской Республике,\n",
    "    и не займёт первую строчку во всех остальных субъектах\"\"\"\n",
    "    probs=[1./np for np in num_of_parties]\n",
    "    # в массиве probs теперь указаны вероятности, \n",
    "    # что конкретная партия займёт \n",
    "    # первую строчку в каждом из субъектов\n",
    "    \n",
    "    return prod([p if i in combination else 1.-p for i,p in enumerate(probs)])\n",
    "    #здесь написано, что нужно посчитать такое произведение: \n",
    "    # для тех субъектов, которые включены\n",
    "    #в список combination, взять число p \n",
    "    # (то есть соответствующую вероятность занять первую строчку),\n",
    "    #а для тех, которые не включены, взять число \n",
    "    # 1-p (дополнительную вероятность).\n",
    "    #сравните с выводом форулы для биномиального распределения"
   ]
  },
  {
   "cell_type": "markdown",
   "metadata": {},
   "source": [
    "## Шаг 3: перебираем все сочетания\n",
    "Чтобы ответить на вопрос «какова вероятность, что конкретная партия получит первое место в 5 субъектах из 13», нужно учесть, что эти 5 субъектов могут выбраны среди 13 разными способами. Например, можно выбрать первые 5 субъектов, или последние 5, или как-то ещё. Как мы знаем из комбинаторики, всего существует $C_{13}^5$ способов это сделать. Но из-за того, что субъекты не равноправны (в разных субъектах разное число партий), вероятности в разных случаях будут разными. Значит, нам нужно перебрать все возможные сочетания, посчитать вероятность каждого и сложить их. К счастью, в Python есть модуль `itertools`, позволяющий работать с такими комбинаторными объектами, как «сочетание»."
   ]
  },
  {
   "cell_type": "code",
   "execution_count": 5,
   "metadata": {
    "collapsed": false
   },
   "outputs": [],
   "source": [
    "from itertools import combinations\n",
    "def prob_n(n):\n",
    "    \"\"\"Эта функция возвращает вероятность того, \n",
    "    что какая-то конкретная партия\n",
    "    окажется на первом месте ровно в n регионах\n",
    "    \"\"\"\n",
    "    return sum(prob_comb(comb) for comb in combinations(range(N),n))"
   ]
  },
  {
   "cell_type": "markdown",
   "metadata": {},
   "source": [
    "## Шаг 4: находим ответ"
   ]
  },
  {
   "cell_type": "code",
   "execution_count": 6,
   "metadata": {
    "collapsed": false
   },
   "outputs": [
    {
     "data": {
      "text/plain": [
       "0.0094378355141384075"
      ]
     },
     "execution_count": 6,
     "metadata": {},
     "output_type": "execute_result"
    }
   ],
   "source": [
    "prob_n(5)"
   ]
  },
  {
   "cell_type": "markdown",
   "metadata": {},
   "source": [
    "Итак, вероятность того, что какая-то партия окажется на первом месте ровно в 5 регионах, равна 0,0094 или 0,94%. Но на самом деле было бы более аккуратно посчитать вероятность того, что партия окажется на первом месте _как минимум_ в 5 регионах. (Интересующее нас событие состоит в не том, что регионов оказалось ровно 5, а в том, что их оказалось достаточно много — если бы их было 6 или все 13, то это тоже вызвало бы подозрения.) Это несложно."
   ]
  },
  {
   "cell_type": "code",
   "execution_count": 7,
   "metadata": {
    "collapsed": false
   },
   "outputs": [
    {
     "data": {
      "text/plain": [
       "0.01125168805590801"
      ]
     },
     "execution_count": 7,
     "metadata": {},
     "output_type": "execute_result"
    }
   ],
   "source": [
    "sum(prob_n(i) for i in xrange(5,N+1))"
   ]
  },
  {
   "cell_type": "markdown",
   "metadata": {},
   "source": [
    "Значит искомая вероятность равняется примерно 1,13%, то есть действительно примерно 1 случай из 100!"
   ]
  },
  {
   "cell_type": "markdown",
   "metadata": {},
   "source": [
    "## Шаг 5: рисуем картинки\n",
    "А сколько первых мест нам не показалось бы подозрительным? Чтобы ответить на этот вопрос, давайте нарисуем график распределения. Это несложно."
   ]
  },
  {
   "cell_type": "code",
   "execution_count": 8,
   "metadata": {
    "collapsed": false
   },
   "outputs": [
    {
     "name": "stdout",
     "output_type": "stream",
     "text": [
      "Populating the interactive namespace from numpy and matplotlib\n"
     ]
    },
    {
     "data": {
      "text/plain": [
       "[<matplotlib.lines.Line2D at 0x36ade10>]"
      ]
     },
     "execution_count": 8,
     "metadata": {},
     "output_type": "execute_result"
    },
    {
     "data": {
      "image/png": "[encoded data removed]",
      "text/plain": [
       "<matplotlib.figure.Figure at 0x363ff90>"
      ]
     },
     "metadata": {},
     "output_type": "display_data"
    }
   ],
   "source": [
    "%pylab inline\n",
    "#нам нужно рисовать графики\n",
    "\n",
    "plot([prob_n(i) for i in xrange(N+1)])"
   ]
  },
  {
   "cell_type": "markdown",
   "metadata": {},
   "source": [
    "По графику видно, что значения от 0 до 3 регионов, где конкретная партия заняла первую строчку, не должны вызывать больших подозрений, а дальнейшее отклонение вправо уже выглядит маловероятным."
   ]
  },
  {
   "cell_type": "markdown",
   "metadata": {},
   "source": [
    "## Упражнения\n",
    "Приблизить полученное распределение одним из распределений, которые изучаются обычно в курсе теории вероятностей (угадать, каким), найти соответствующие вероятности и построить графики."
   ]
  }
 ],
 "metadata": {
  "kernelspec": {
   "display_name": "Python 2",
   "language": "python",
   "name": "python2"
  },
  "language_info": {
   "codemirror_mode": {
    "name": "ipython",
    "version": 2
   },
   "file_extension": ".py",
   "mimetype": "text/x-python",
   "name": "python",
   "nbconvert_exporter": "python",
   "pygments_lexer": "ipython2",
   "version": "2.7.8"
  }
 },
 "nbformat": 4,
 "nbformat_minor": 0
}
